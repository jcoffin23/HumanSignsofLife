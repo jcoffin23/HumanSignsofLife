{
 "cells": [
  {
   "cell_type": "markdown",
   "metadata": {},
   "source": [
    "## Training CNN Model ##\n",
    "#### Using only the heart beat with a single non moving frequency ####\n",
    "\n",
    "\n",
    "### Load the Common Imports ###"
   ]
  },
  {
   "cell_type": "code",
   "execution_count": 1,
   "metadata": {},
   "outputs": [
    {
     "name": "stdout",
     "output_type": "stream",
     "text": [
      "2.4.3\n"
     ]
    }
   ],
   "source": [
    "import keras\n",
    "import numpy as np\n",
    "import matplotlib.pyplot as plt\n",
    "from keras import Input as Input\n",
    "from keras.datasets import mnist\n",
    "from keras.layers import Dense, Flatten\n",
    "from keras.layers import Conv2D, MaxPooling2D,Conv1D\n",
    "from keras.models import Sequential\n",
    "from keras.layers import Dropout\n",
    "from keras import layers\n",
    "from keras.layers import BatchNormalization\n",
    "import h5py\n",
    "\n",
    "print(keras.__version__)"
   ]
  },
  {
   "cell_type": "markdown",
   "metadata": {},
   "source": [
    "# Load Mat Files\n"
   ]
  },
  {
   "cell_type": "code",
   "execution_count": 2,
   "metadata": {},
   "outputs": [
    {
     "name": "stderr",
     "output_type": "stream",
     "text": [
      "<ipython-input-2-ad88cff7bb8a>:1: H5pyDeprecationWarning: The default file mode will change to 'r' (read-only) in h5py 3.0. To suppress this warning, pass the mode you need to h5py.File(), or set the global default h5.get_config().default_file_mode, or set the environment variable H5PY_DEFAULT_READONLY=1. Available modes are: 'r', 'r+', 'w', 'w-'/'x', 'a'. See the docs for details.\n",
      "  f = h5py.File('ML_singleFreq2.mat')\n"
     ]
    }
   ],
   "source": [
    "f = h5py.File('ML_singleFreq2.mat')\n",
    "arrays = {}\n",
    "\n",
    "for k, v in f.items():\n",
    "    arrays[k] = np.array(v)\n",
    "\n",
    "    \n",
    "    \n"
   ]
  },
  {
   "cell_type": "code",
   "execution_count": null,
   "metadata": {},
   "outputs": [],
   "source": []
  },
  {
   "cell_type": "markdown",
   "metadata": {},
   "source": [
    "### Load the Dataset ###"
   ]
  },
  {
   "cell_type": "code",
   "execution_count": 3,
   "metadata": {
    "scrolled": true
   },
   "outputs": [
    {
     "name": "stdout",
     "output_type": "stream",
     "text": [
      "(9999, 2000)\n",
      "x_train shape: (90000, 2000)\n",
      "90000 train samples\n",
      "9999 test samples\n",
      "(90000,)\n"
     ]
    }
   ],
   "source": [
    "#print(arrays.keys())\n",
    "datOut= arrays['datOut']\n",
    "datLabels = arrays['x1']\n",
    "#print(datOut.shape) # 20 thousand different trials each is 16k samples long. +\n",
    "\n",
    "tNum = datOut.shape[0]\n",
    "\n",
    "\n",
    "maxFreq = 1\n",
    "\n",
    "\n",
    "\n",
    "percentTrain = .9;\n",
    "trainEndEx = round(tNum*percentTrain)\n",
    "\n",
    "firstLayerLength = 10000\n",
    "\n",
    "x_train=np.empty([20000,2000])\n",
    "\n",
    "x_train = datOut[0:trainEndEx,0:firstLayerLength]\n",
    "y_train = datLabels[0,0:trainEndEx] / maxFreq\n",
    "\n",
    "x_test = datOut[trainEndEx+1:,0:firstLayerLength]\n",
    "y_test = datLabels[0,trainEndEx+1:]/maxFreq\n",
    "\n",
    "\n",
    "# input image dimensions\n",
    "img_x, img_y = 28, 28\n",
    "#Reshape the data into a 4d tensor\n",
    "#x_train = x_train.reshape(x_train.shape[0], x_train.shape[1], 1)\n",
    "#x_test = x_test.reshape(x_test.shape[0], x_test.shape[1], 1)\n",
    "#input_shape = ( x_train.shape[1], 1, 1)\n",
    "print(x_test.shape)\n",
    "\n",
    "#x_train = x_train.reshape(-1,firstLayerLength)\n",
    "#x_test = x_test.reshape(-1,firstLayerLength)\n",
    "\n",
    "\n",
    "# convert the data to the right type\n",
    "x_train = x_train.astype('float32')\n",
    "x_test = x_test.astype('float32')\n",
    "\n",
    "\n",
    "print('x_train shape:', x_train.shape)\n",
    "print(x_train.shape[0], 'train samples')\n",
    "print(x_test.shape[0], 'test samples')\n",
    "\n",
    "print(y_train.shape)\n"
   ]
  },
  {
   "cell_type": "code",
   "execution_count": 4,
   "metadata": {},
   "outputs": [
    {
     "data": {
      "image/png": "[encoded data removed]",
      "text/plain": [
       "<Figure size 432x288 with 1 Axes>"
      ]
     },
     "metadata": {
      "needs_background": "light"
     },
     "output_type": "display_data"
    },
    {
     "name": "stdout",
     "output_type": "stream",
     "text": [
      "0.9992488129151855\n"
     ]
    }
   ],
   "source": [
    "x = 79\n",
    "t = np.arange(0,1,1/2000)\n",
    "t = t[0:firstLayerLength]\n",
    "\n",
    "plt.plot(t,x_train[x,:],t,x_train[1,:])\n",
    "plt.ylabel('some numbers')\n",
    "plt.show()\n",
    "print(y_train[x])"
   ]
  },
  {
   "cell_type": "markdown",
   "metadata": {},
   "source": [
    "# Set up Model\n"
   ]
  },
  {
   "cell_type": "markdown",
   "metadata": {},
   "source": [
    "model = Sequential()\n",
    "\n",
    "\n",
    "model.add(Conv1D(5, 1, input_shape=(x_train.shape[1], 1)))\n",
    "model.add(Flatten())"
   ]
  },
  {
   "cell_type": "code",
   "execution_count": 5,
   "metadata": {},
   "outputs": [],
   "source": [
    "model = Sequential()\n",
    "#model.add(Conv1D(5, 5, input_shape=(x_train.shape[1], 1)))\n",
    "model.add(Input(shape=(x_train.shape[1], )))\n",
    "\n",
    "model.add(Dense(2,input_shape  = (x_train.shape[1],)))\n",
    "model.add(Dense(2))\n",
    "model.add(Dense(3))\n",
    "model.add(Dense(1))"
   ]
  },
  {
   "cell_type": "code",
   "execution_count": 6,
   "metadata": {},
   "outputs": [
    {
     "name": "stdout",
     "output_type": "stream",
     "text": [
      "Model: \"sequential\"\n",
      "_________________________________________________________________\n",
      "Layer (type)                 Output Shape              Param #   \n",
      "=================================================================\n",
      "dense (Dense)                (None, 2)                 4002      \n",
      "_________________________________________________________________\n",
      "dense_1 (Dense)              (None, 2)                 6         \n",
      "_________________________________________________________________\n",
      "dense_2 (Dense)              (None, 3)                 9         \n",
      "_________________________________________________________________\n",
      "dense_3 (Dense)              (None, 1)                 4         \n",
      "=================================================================\n",
      "Total params: 4,021\n",
      "Trainable params: 4,021\n",
      "Non-trainable params: 0\n",
      "_________________________________________________________________\n"
     ]
    }
   ],
   "source": [
    "#model.compile(loss=keras.losses.mean_squared_logarithmic_error,\n",
    "#              optimizer=keras.optimizers.Adam(),\n",
    "#                  metrics=[keras.metrics.MeanSquaredError()])\n",
    "#model.summary()\n",
    "\n",
    "model.compile(loss=keras.losses.mean_squared_error,\n",
    "              optimizer=keras.optimizers.Nadam(learning_rate=0.001)\n",
    ",\n",
    "                  metrics=[keras.metrics.MeanSquaredError()])\n",
    "model.summary()"
   ]
  },
  {
   "cell_type": "markdown",
   "metadata": {},
   "source": [
    "### Convert class vectors to binary class matrices ###\n",
    "\n",
    "This is the one to use with the `categorical_crossentropy` loss."
   ]
  },
  {
   "cell_type": "code",
   "execution_count": 7,
   "metadata": {},
   "outputs": [
    {
     "name": "stdout",
     "output_type": "stream",
     "text": [
      "<dtype: 'float32'>\n"
     ]
    }
   ],
   "source": [
    "batch_size = 100  # Set the batch size\n",
    "epochs = 5 # Set the number of epochs\n",
    "# One Hidden Layer\n",
    "print(model.inputs[0].dtype)\n"
   ]
  },
  {
   "cell_type": "markdown",
   "metadata": {},
   "source": [
    "### Train the Model ###"
   ]
  },
  {
   "cell_type": "code",
   "execution_count": 8,
   "metadata": {},
   "outputs": [
    {
     "name": "stdout",
     "output_type": "stream",
     "text": [
      "Epoch 1/5\n",
      "738/738 [==============================] - 30s 40ms/step - loss: 0.0304 - mean_squared_error: 0.0304 - val_loss: 1.5824e-04 - val_mean_squared_error: 1.5824e-04\n",
      "Epoch 2/5\n",
      "738/738 [==============================] - 36s 48ms/step - loss: 0.0019 - mean_squared_error: 0.0019 - val_loss: 1.5184e-04 - val_mean_squared_error: 1.5184e-04\n",
      "Epoch 3/5\n",
      "738/738 [==============================] - 38s 52ms/step - loss: 0.0010 - mean_squared_error: 0.0010 - val_loss: 9.6503e-05 - val_mean_squared_error: 9.6503e-05\n",
      "Epoch 4/5\n",
      "738/738 [==============================] - 26s 35ms/step - loss: 4.2405e-04 - mean_squared_error: 4.2405e-04 - val_loss: 8.6852e-05 - val_mean_squared_error: 8.6852e-05\n",
      "Epoch 5/5\n",
      "738/738 [==============================] - 34s 46ms/step - loss: 4.4102e-04 - mean_squared_error: 4.4102e-04 - val_loss: 4.5131e-05 - val_mean_squared_error: 4.5131e-05\n",
      "Test loss: 4.5956890971865505e-05\n",
      "Test accuracy: 4.5956890971865505e-05\n"
     ]
    }
   ],
   "source": [
    "# One Hidden Layer\n",
    "initializer = keras.initializers.RandomNormal(mean=0., stddev=5.)\n",
    "\n",
    "hist = model.fit(x_train, y_train,\n",
    "          batch_size=batch_size,\n",
    "          epochs=epochs,\n",
    "          verbose=1,\n",
    "          validation_split=0.18,\n",
    "          callbacks=None)\n",
    "\n",
    "\n",
    "\n",
    "score = model.evaluate(x_test, y_test, verbose=0)\n",
    "print('Test loss:', score[0])\n",
    "print('Test accuracy:', score[1])"
   ]
  },
  {
   "cell_type": "code",
   "execution_count": 9,
   "metadata": {},
   "outputs": [
    {
     "name": "stdout",
     "output_type": "stream",
     "text": [
      "[[1.6512418]\n",
      " [1.9119648]\n",
      " [0.5581957]\n",
      " ...\n",
      " [0.3466232]\n",
      " [1.005999 ]\n",
      " [1.6299324]]\n",
      "[1.65086121 1.9001043  0.55660755 ... 0.35272785 1.00239883 1.63484069]\n"
     ]
    }
   ],
   "source": [
    "fEst = model.predict(x_test)\n",
    "\n",
    "print(fEst)\n",
    "print(y_test)"
   ]
  },
  {
   "cell_type": "markdown",
   "metadata": {},
   "source": [
    "# Old Code ( for 2d Image CNN)\n",
    "model = Sequential()\n",
    "model.add(Input(shape=(32,32,1)))\n",
    "\n",
    "model.add(Conv2D(32, kernel_size=(3, 3), strides=(1, 1), activation='relu'))\n",
    "model.add(Dropout(rate = .01,seed = 7))\n",
    "model.add(MaxPooling2D(pool_size=(5, 5),strides=(2,2),padding='same'))\n",
    "model.add(Conv2D(64, (7,7), activation='relu'))\n",
    "\n",
    "model.add(BatchNormalization(axis=3,trainable=True))\n",
    "model.add(MaxPooling2D(pool_size=(2, 2)))\n",
    "model.add(Flatten())\n",
    "model.add(Dense(1000, activation='relu'))\n",
    "model.add(Dense(num_classes, activation='softmax'))\n"
   ]
  },
  {
   "cell_type": "code",
   "execution_count": null,
   "metadata": {},
   "outputs": [],
   "source": []
  },
  {
   "cell_type": "code",
   "execution_count": null,
   "metadata": {},
   "outputs": [],
   "source": []
  },
  {
   "cell_type": "code",
   "execution_count": null,
   "metadata": {},
   "outputs": [],
   "source": []
  }
 ],
 "metadata": {
  "kernelspec": {
   "display_name": "Python 3",
   "language": "python",
   "name": "python3"
  },
  "language_info": {
   "codemirror_mode": {
    "name": "ipython",
    "version": 3
   },
   "file_extension": ".py",
   "mimetype": "text/x-python",
   "name": "python",
   "nbconvert_exporter": "python",
   "pygments_lexer": "ipython3",
   "version": "3.8.8"
  }
 },
 "nbformat": 4,
 "nbformat_minor": 2
}

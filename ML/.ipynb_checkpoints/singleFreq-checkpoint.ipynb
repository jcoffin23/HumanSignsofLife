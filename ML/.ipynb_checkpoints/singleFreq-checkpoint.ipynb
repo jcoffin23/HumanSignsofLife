{
 "cells": [
  {
   "cell_type": "markdown",
   "metadata": {},
   "source": [
    "## Computer Exercise #05 ##\n",
    "\n",
    "### Load the Common Imports ###"
   ]
  },
  {
   "cell_type": "code",
   "execution_count": 1,
   "metadata": {},
   "outputs": [
    {
     "name": "stdout",
     "output_type": "stream",
     "text": [
      "2.4.3\n"
     ]
    }
   ],
   "source": [
    "import keras\n",
    "import numpy as np\n",
    "import matplotlib.pyplot as plt\n",
    "from keras import Input as Input\n",
    "from keras.datasets import mnist\n",
    "from keras.layers import Dense, Flatten\n",
    "from keras.layers import Conv2D, MaxPooling2D,Conv1D\n",
    "from keras.models import Sequential\n",
    "from keras.layers import Dropout\n",
    "from keras import layers\n",
    "from keras.layers import BatchNormalization\n",
    "import h5py\n",
    "\n",
    "print(keras.__version__)"
   ]
  },
  {
   "cell_type": "markdown",
   "metadata": {},
   "source": [
    "# Load Mat Files\n"
   ]
  },
  {
   "cell_type": "code",
   "execution_count": 2,
   "metadata": {},
   "outputs": [
    {
     "name": "stderr",
     "output_type": "stream",
     "text": [
      "<ipython-input-2-8d1c978dfe30>:1: H5pyDeprecationWarning: The default file mode will change to 'r' (read-only) in h5py 3.0. To suppress this warning, pass the mode you need to h5py.File(), or set the global default h5.get_config().default_file_mode, or set the environment variable H5PY_DEFAULT_READONLY=1. Available modes are: 'r', 'r+', 'w', 'w-'/'x', 'a'. See the docs for details.\n",
      "  f = h5py.File('ML_singleFreq.mat')\n"
     ]
    }
   ],
   "source": [
    "f = h5py.File('ML_singleFreq.mat')\n",
    "arrays = {}\n",
    "\n",
    "for k, v in f.items():\n",
    "    arrays[k] = np.array(v)\n",
    "\n",
    "    \n",
    "    \n"
   ]
  },
  {
   "cell_type": "code",
   "execution_count": null,
   "metadata": {},
   "outputs": [],
   "source": []
  },
  {
   "cell_type": "markdown",
   "metadata": {},
   "source": [
    "### Load the Dataset ###"
   ]
  },
  {
   "cell_type": "code",
   "execution_count": 5,
   "metadata": {
    "scrolled": true
   },
   "outputs": [
    {
     "name": "stdout",
     "output_type": "stream",
     "text": [
      "(1999, 10000)\n",
      "x_train shape: (18000, 10000)\n",
      "18000 train samples\n",
      "1999 test samples\n",
      "(18000,)\n"
     ]
    }
   ],
   "source": [
    "#print(arrays.keys())\n",
    "datOut= arrays['datOut']\n",
    "datLabels = arrays['x1']\n",
    "#print(datOut.shape) # 20 thousand different trials each is 16k samples long. +\n",
    "\n",
    "tNum = datOut.shape[0]\n",
    "\n",
    "\n",
    "maxFreq = 1\n",
    "\n",
    "\n",
    "\n",
    "percentTrain = .9;\n",
    "trainEndEx = round(tNum*percentTrain)\n",
    "\n",
    "firstLayerLength = 10000\n",
    "\n",
    "x_train=np.empty([20000,2000])\n",
    "\n",
    "x_train = datOut[0:trainEndEx,0:firstLayerLength]\n",
    "y_train = datLabels[0,0:trainEndEx] / maxFreq\n",
    "\n",
    "x_test = datOut[trainEndEx+1:,0:firstLayerLength]\n",
    "y_test = datLabels[0,trainEndEx+1:]/maxFreq\n",
    "\n",
    "\n",
    "# input image dimensions\n",
    "img_x, img_y = 28, 28\n",
    "#Reshape the data into a 4d tensor\n",
    "#x_train = x_train.reshape(x_train.shape[0], x_train.shape[1], 1)\n",
    "#x_test = x_test.reshape(x_test.shape[0], x_test.shape[1], 1)\n",
    "#input_shape = ( x_train.shape[1], 1, 1)\n",
    "print(x_test.shape)\n",
    "\n",
    "#x_train = x_train.reshape(-1,firstLayerLength)\n",
    "#x_test = x_test.reshape(-1,firstLayerLength)\n",
    "\n",
    "\n",
    "# convert the data to the right type\n",
    "x_train = x_train.astype('float32')\n",
    "x_test = x_test.astype('float32')\n",
    "\n",
    "\n",
    "print('x_train shape:', x_train.shape)\n",
    "print(x_train.shape[0], 'train samples')\n",
    "print(x_test.shape[0], 'test samples')\n",
    "\n",
    "print(y_train.shape)\n"
   ]
  },
  {
   "cell_type": "code",
   "execution_count": 14,
   "metadata": {},
   "outputs": [
    {
     "data": {
      "image/png": "[encoded data removed]",
      "text/plain": [
       "<Figure size 432x288 with 1 Axes>"
      ]
     },
     "metadata": {
      "needs_background": "light"
     },
     "output_type": "display_data"
    },
    {
     "name": "stdout",
     "output_type": "stream",
     "text": [
      "1.4599157868935897\n"
     ]
    }
   ],
   "source": [
    "x = 79\n",
    "t = np.arange(0,8,1/2000)\n",
    "t = t[0:firstLayerLength]\n",
    "\n",
    "plt.plot(t,x_train[x,:],t,x_train[1,:])\n",
    "plt.ylabel('some numbers')\n",
    "plt.show()\n",
    "print(y_train[x])"
   ]
  },
  {
   "cell_type": "markdown",
   "metadata": {},
   "source": [
    "# Set up Model\n"
   ]
  },
  {
   "cell_type": "markdown",
   "metadata": {},
   "source": [
    "model = Sequential()\n",
    "\n",
    "\n",
    "model.add(Conv1D(5, 1, input_shape=(x_train.shape[1], 1)))\n",
    "model.add(Flatten())"
   ]
  },
  {
   "cell_type": "code",
   "execution_count": 15,
   "metadata": {},
   "outputs": [],
   "source": [
    "model = Sequential()\n",
    "#model.add(Conv1D(5, 5, input_shape=(x_train.shape[1], 1)))\n",
    "model.add(Input(shape=(x_train.shape[1], )))\n",
    "\n",
    "model.add(Dense(2,input_shape  = (x_train.shape[1],)))\n",
    "model.add(Dense(2))\n",
    "model.add(Dense(3))\n",
    "model.add(Dense(1))"
   ]
  },
  {
   "cell_type": "code",
   "execution_count": 21,
   "metadata": {},
   "outputs": [
    {
     "name": "stdout",
     "output_type": "stream",
     "text": [
      "Model: \"sequential_2\"\n",
      "_________________________________________________________________\n",
      "Layer (type)                 Output Shape              Param #   \n",
      "=================================================================\n",
      "dense_5 (Dense)              (None, 2)                 20002     \n",
      "_________________________________________________________________\n",
      "dense_6 (Dense)              (None, 2)                 6         \n",
      "_________________________________________________________________\n",
      "dense_7 (Dense)              (None, 3)                 9         \n",
      "_________________________________________________________________\n",
      "dense_8 (Dense)              (None, 1)                 4         \n",
      "=================================================================\n",
      "Total params: 20,021\n",
      "Trainable params: 20,021\n",
      "Non-trainable params: 0\n",
      "_________________________________________________________________\n"
     ]
    }
   ],
   "source": [
    "#model.compile(loss=keras.losses.mean_squared_logarithmic_error,\n",
    "#              optimizer=keras.optimizers.Adam(),\n",
    "#                  metrics=[keras.metrics.MeanSquaredError()])\n",
    "#model.summary()\n",
    "\n",
    "model.compile(loss=keras.losses.mean_squared_logarithmic_error,\n",
    "              optimizer=keras.optimizers.Nadam(learning_rate=0.001)\n",
    ",\n",
    "                  metrics=[keras.metrics.MeanSquaredError()])\n",
    "model.summary()"
   ]
  },
  {
   "cell_type": "markdown",
   "metadata": {},
   "source": [
    "### Convert class vectors to binary class matrices ###\n",
    "\n",
    "This is the one to use with the `categorical_crossentropy` loss."
   ]
  },
  {
   "cell_type": "code",
   "execution_count": 22,
   "metadata": {},
   "outputs": [
    {
     "name": "stdout",
     "output_type": "stream",
     "text": [
      "<dtype: 'float32'>\n"
     ]
    }
   ],
   "source": [
    "batch_size = 5  # Set the batch size\n",
    "epochs = 40 # Set the number of epochs\n",
    "# One Hidden Layer\n",
    "print(model.inputs[0].dtype)\n"
   ]
  },
  {
   "cell_type": "markdown",
   "metadata": {},
   "source": [
    "### Train the Model ###"
   ]
  },
  {
   "cell_type": "code",
   "execution_count": 23,
   "metadata": {},
   "outputs": [
    {
     "name": "stdout",
     "output_type": "stream",
     "text": [
      "Epoch 1/40\n",
      "2952/2952 [==============================] - 97s 33ms/step - loss: 0.0815 - mean_squared_error: 0.3133 - val_loss: 0.0791 - val_mean_squared_error: 0.3024\n",
      "Epoch 2/40\n",
      "2952/2952 [==============================] - 97s 33ms/step - loss: 0.0808 - mean_squared_error: 0.3121 - val_loss: 0.0794 - val_mean_squared_error: 0.3074\n",
      "Epoch 3/40\n",
      "2952/2952 [==============================] - 97s 33ms/step - loss: 0.0819 - mean_squared_error: 0.3153 - val_loss: 0.0798 - val_mean_squared_error: 0.3051\n",
      "Epoch 4/40\n",
      "2952/2952 [==============================] - 94s 32ms/step - loss: 0.0796 - mean_squared_error: 0.3065 - val_loss: 0.0791 - val_mean_squared_error: 0.2984\n",
      "Epoch 5/40\n",
      "2952/2952 [==============================] - 94s 32ms/step - loss: 0.0812 - mean_squared_error: 0.3157 - val_loss: 0.0796 - val_mean_squared_error: 0.3028\n",
      "Epoch 6/40\n",
      "2952/2952 [==============================] - 93s 31ms/step - loss: 0.0817 - mean_squared_error: 0.3144 - val_loss: 0.0788 - val_mean_squared_error: 0.3007\n",
      "Epoch 7/40\n",
      "2952/2952 [==============================] - 96s 33ms/step - loss: 0.0817 - mean_squared_error: 0.3150 - val_loss: 0.0787 - val_mean_squared_error: 0.3008\n",
      "Epoch 8/40\n",
      "2952/2952 [==============================] - 86s 29ms/step - loss: 0.0812 - mean_squared_error: 0.3148 - val_loss: 0.0804 - val_mean_squared_error: 0.3076\n",
      "Epoch 9/40\n",
      "2952/2952 [==============================] - 87s 29ms/step - loss: 0.0805 - mean_squared_error: 0.3117 - val_loss: 0.0816 - val_mean_squared_error: 0.3131\n",
      "Epoch 10/40\n",
      "2952/2952 [==============================] - 87s 30ms/step - loss: 0.0817 - mean_squared_error: 0.3150 - val_loss: 0.0868 - val_mean_squared_error: 0.3360\n",
      "Epoch 11/40\n",
      "2952/2952 [==============================] - 90s 30ms/step - loss: 0.0799 - mean_squared_error: 0.3081 - val_loss: 0.0791 - val_mean_squared_error: 0.3039\n",
      "Epoch 12/40\n",
      "2952/2952 [==============================] - 83s 28ms/step - loss: 0.0797 - mean_squared_error: 0.3073 - val_loss: 0.0795 - val_mean_squared_error: 0.3012\n",
      "Epoch 13/40\n",
      "2952/2952 [==============================] - 82s 28ms/step - loss: 0.0793 - mean_squared_error: 0.3055 - val_loss: 0.0787 - val_mean_squared_error: 0.3006\n",
      "Epoch 14/40\n",
      "2952/2952 [==============================] - 82s 28ms/step - loss: 0.0790 - mean_squared_error: 0.3056 - val_loss: 0.0788 - val_mean_squared_error: 0.3014\n",
      "Epoch 15/40\n",
      "2952/2952 [==============================] - 89s 30ms/step - loss: 0.0800 - mean_squared_error: 0.3077 - val_loss: 0.0789 - val_mean_squared_error: 0.3048\n",
      "Epoch 16/40\n",
      "2952/2952 [==============================] - 84s 28ms/step - loss: 0.0793 - mean_squared_error: 0.3041 - val_loss: 0.0788 - val_mean_squared_error: 0.2995\n",
      "Epoch 17/40\n",
      "2952/2952 [==============================] - 87s 29ms/step - loss: 0.0799 - mean_squared_error: 0.3055 - val_loss: 0.0789 - val_mean_squared_error: 0.2991\n",
      "Epoch 18/40\n",
      "2952/2952 [==============================] - 97s 33ms/step - loss: 0.0800 - mean_squared_error: 0.3080 - val_loss: 0.0788 - val_mean_squared_error: 0.3023\n",
      "Epoch 19/40\n",
      "2952/2952 [==============================] - 97s 33ms/step - loss: 0.0793 - mean_squared_error: 0.3055 - val_loss: 0.0790 - val_mean_squared_error: 0.2994\n",
      "Epoch 20/40\n",
      "2952/2952 [==============================] - 92s 31ms/step - loss: 0.0786 - mean_squared_error: 0.3034 - val_loss: 0.0788 - val_mean_squared_error: 0.3038\n",
      "Epoch 21/40\n",
      "2952/2952 [==============================] - 95s 32ms/step - loss: 0.0806 - mean_squared_error: 0.3099 - val_loss: 0.0788 - val_mean_squared_error: 0.3001\n",
      "Epoch 22/40\n",
      "2952/2952 [==============================] - 95s 32ms/step - loss: 0.0790 - mean_squared_error: 0.3049 - val_loss: 0.0788 - val_mean_squared_error: 0.3024\n",
      "Epoch 23/40\n",
      "2952/2952 [==============================] - 98s 33ms/step - loss: 0.0790 - mean_squared_error: 0.3032 - val_loss: 0.0789 - val_mean_squared_error: 0.3003\n",
      "Epoch 24/40\n",
      "2952/2952 [==============================] - 95s 32ms/step - loss: 0.0797 - mean_squared_error: 0.3065 - val_loss: 0.0789 - val_mean_squared_error: 0.3002\n",
      "Epoch 25/40\n",
      "2952/2952 [==============================] - 101s 34ms/step - loss: 0.0788 - mean_squared_error: 0.3033 - val_loss: 0.0788 - val_mean_squared_error: 0.3023\n",
      "Epoch 26/40\n",
      "2952/2952 [==============================] - 95s 32ms/step - loss: 0.0791 - mean_squared_error: 0.3055 - val_loss: 0.0791 - val_mean_squared_error: 0.3048\n",
      "Epoch 27/40\n",
      "2952/2952 [==============================] - 98s 33ms/step - loss: 0.0802 - mean_squared_error: 0.3095 - val_loss: 0.0788 - val_mean_squared_error: 0.3026\n",
      "Epoch 28/40\n",
      "2952/2952 [==============================] - 91s 31ms/step - loss: 0.0791 - mean_squared_error: 0.3058 - val_loss: 0.0788 - val_mean_squared_error: 0.3029\n",
      "Epoch 29/40\n",
      "2952/2952 [==============================] - 98s 33ms/step - loss: 0.0801 - mean_squared_error: 0.3095 - val_loss: 0.0794 - val_mean_squared_error: 0.3066\n",
      "Epoch 30/40\n",
      "2952/2952 [==============================] - 96s 33ms/step - loss: 0.0797 - mean_squared_error: 0.3085 - val_loss: 0.0788 - val_mean_squared_error: 0.3022\n",
      "Epoch 31/40\n",
      "2952/2952 [==============================] - 98s 33ms/step - loss: 0.0795 - mean_squared_error: 0.3061 - val_loss: 0.0788 - val_mean_squared_error: 0.3003\n",
      "Epoch 32/40\n",
      "2952/2952 [==============================] - 98s 33ms/step - loss: 0.0786 - mean_squared_error: 0.3042 - val_loss: 0.0788 - val_mean_squared_error: 0.3002\n",
      "Epoch 33/40\n",
      "2952/2952 [==============================] - 98s 33ms/step - loss: 0.0786 - mean_squared_error: 0.3034 - val_loss: 0.0788 - val_mean_squared_error: 0.3017\n",
      "Epoch 34/40\n",
      "2952/2952 [==============================] - 97s 33ms/step - loss: 0.0798 - mean_squared_error: 0.3070 - val_loss: 0.0788 - val_mean_squared_error: 0.3015\n",
      "Epoch 35/40\n",
      "2952/2952 [==============================] - 93s 31ms/step - loss: 0.0793 - mean_squared_error: 0.3047 - val_loss: 0.0789 - val_mean_squared_error: 0.3055\n",
      "Epoch 36/40\n",
      "2952/2952 [==============================] - 106s 36ms/step - loss: 0.0795 - mean_squared_error: 0.3057 - val_loss: 0.0788 - val_mean_squared_error: 0.3036\n",
      "Epoch 37/40\n",
      "2952/2952 [==============================] - 118s 40ms/step - loss: 0.0800 - mean_squared_error: 0.3078 - val_loss: 0.0788 - val_mean_squared_error: 0.3006\n",
      "Epoch 38/40\n",
      "2952/2952 [==============================] - 115s 39ms/step - loss: 0.0792 - mean_squared_error: 0.3043 - val_loss: 0.0792 - val_mean_squared_error: 0.2999\n",
      "Epoch 39/40\n",
      "2952/2952 [==============================] - 120s 41ms/step - loss: 0.0795 - mean_squared_error: 0.3067 - val_loss: 0.0789 - val_mean_squared_error: 0.2997\n",
      "Epoch 40/40\n",
      "2952/2952 [==============================] - 119s 40ms/step - loss: 0.0802 - mean_squared_error: 0.3083 - val_loss: 0.0788 - val_mean_squared_error: 0.3005\n",
      "Test loss: 0.07753855735063553\n",
      "Test accuracy: 0.2990837097167969\n"
     ]
    }
   ],
   "source": [
    "# One Hidden Layer\n",
    "initializer = keras.initializers.RandomNormal(mean=0., stddev=5.)\n",
    "\n",
    "hist = model.fit(x_train, y_train,\n",
    "          batch_size=batch_size,\n",
    "          epochs=epochs,\n",
    "          verbose=1,\n",
    "          validation_split=0.18,\n",
    "          callbacks=None)\n",
    "\n",
    "\n",
    "\n",
    "score = model.evaluate(x_test, y_test, verbose=0)\n",
    "print('Test loss:', score[0])\n",
    "print('Test accuracy:', score[1])"
   ]
  },
  {
   "cell_type": "code",
   "execution_count": 25,
   "metadata": {},
   "outputs": [
    {
     "name": "stdout",
     "output_type": "stream",
     "text": [
      "[[0.98553413]\n",
      " [0.985054  ]\n",
      " [0.984699  ]\n",
      " ...\n",
      " [0.9851494 ]\n",
      " [0.984256  ]\n",
      " [0.9847715 ]]\n",
      "[1.58624883 0.6228818  0.37424988 ... 0.22158816 0.31737996 1.63642392]\n"
     ]
    }
   ],
   "source": [
    "fEst = model.predict(x_test)\n",
    "\n",
    "print(fEst)\n",
    "print(y_test)"
   ]
  },
  {
   "cell_type": "markdown",
   "metadata": {},
   "source": [
    "# Old Code ( for 2d Image CNN)\n",
    "model = Sequential()\n",
    "model.add(Input(shape=(32,32,1)))\n",
    "\n",
    "model.add(Conv2D(32, kernel_size=(3, 3), strides=(1, 1), activation='relu'))\n",
    "model.add(Dropout(rate = .01,seed = 7))\n",
    "model.add(MaxPooling2D(pool_size=(5, 5),strides=(2,2),padding='same'))\n",
    "model.add(Conv2D(64, (7,7), activation='relu'))\n",
    "\n",
    "model.add(BatchNormalization(axis=3,trainable=True))\n",
    "model.add(MaxPooling2D(pool_size=(2, 2)))\n",
    "model.add(Flatten())\n",
    "model.add(Dense(1000, activation='relu'))\n",
    "model.add(Dense(num_classes, activation='softmax'))\n"
   ]
  },
  {
   "cell_type": "code",
   "execution_count": null,
   "metadata": {},
   "outputs": [],
   "source": []
  }
 ],
 "metadata": {
  "kernelspec": {
   "display_name": "Python 3",
   "language": "python",
   "name": "python3"
  },
  "language_info": {
   "codemirror_mode": {
    "name": "ipython",
    "version": 3
   },
   "file_extension": ".py",
   "mimetype": "text/x-python",
   "name": "python",
   "nbconvert_exporter": "python",
   "pygments_lexer": "ipython3",
   "version": "3.8.8"
  }
 },
 "nbformat": 4,
 "nbformat_minor": 2
}

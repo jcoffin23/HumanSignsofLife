{
 "cells": [
  {
   "cell_type": "markdown",
   "id": "9886d730",
   "metadata": {},
   "source": [
    "# Load the Model\n",
    "\n",
    "This script will load the previously trained ML model and try to use it to predict the output frequency for different data conditons.\n",
    "\n",
    "First we will be using the model trained on a stationary heart beat to detect a model that has a moving heart beat. The data loaded below has a heart beat which is linearly chirping at a rate of 1 Hz in 10 seconds. "
   ]
  },
  {
   "cell_type": "code",
   "execution_count": 1,
   "id": "ae7efcdc",
   "metadata": {},
   "outputs": [
    {
     "name": "stdout",
     "output_type": "stream",
     "text": [
      "2.4.3\n"
     ]
    }
   ],
   "source": [
    "import keras\n",
    "import numpy as np\n",
    "import matplotlib.pyplot as plt\n",
    "from keras import Input as Input\n",
    "from keras.datasets import mnist\n",
    "from keras.layers import Dense, Flatten\n",
    "from keras.layers import Conv2D, MaxPooling2D,Conv1D\n",
    "from keras.models import Sequential\n",
    "from keras.layers import Dropout\n",
    "from keras import layers\n",
    "from keras.layers import BatchNormalization\n",
    "import h5py\n",
    "import scipy.signal as sig\n",
    "\n",
    "print(keras.__version__)"
   ]
  },
  {
   "cell_type": "markdown",
   "id": "2e475606",
   "metadata": {},
   "source": [
    "# Load data\n",
    "\n",
    "The cell below loads the .mat file which contains the data. If this does not work make sure the .mat was saved as -v7.3, which is in the h5py data format. If it is not, resave it or change this code. "
   ]
  },
  {
   "cell_type": "code",
   "execution_count": 2,
   "id": "583097d4",
   "metadata": {},
   "outputs": [],
   "source": [
    "f = h5py.File('ML_HRV_honly_fs100_1.mat','r') \n",
    "arrays = {}\n",
    "\n",
    "for k, v in f.items():\n",
    "    arrays[k] = np.array(v)\n",
    "\n",
    "    "
   ]
  },
  {
   "cell_type": "markdown",
   "id": "b9220a06",
   "metadata": {},
   "source": [
    "# Extract data into usable form\n",
    "The data is in a dict by default, for ease of use lets put it into several different variables. X_dat should be a matrix of the data which is 100k by 2k where there are 100k data samples each are 2k long. "
   ]
  },
  {
   "cell_type": "code",
   "execution_count": 37,
   "id": "6d311a51",
   "metadata": {},
   "outputs": [
    {
     "name": "stdout",
     "output_type": "stream",
     "text": [
      "dict_keys(['datOut', 'fhActual', 'frActual', 't'])\n",
      "(100, 10001)\n",
      "x_dat shape: (100, 10001)\n",
      "100 samples\n",
      "y_dat shape: (10001,)\n"
     ]
    }
   ],
   "source": [
    "print(arrays.keys())\n",
    "datOut= arrays['datOut']\n",
    "\n",
    "numOfDat = datOut.shape[0]\n",
    "\n",
    "heartLabels = arrays['fhActual']\n",
    "\n",
    "print(heartLabels.shape)\n",
    "heartLabels = heartLabels[0,0:]\n",
    "\n",
    "y_dat = heartLabels\n",
    "\n",
    "respLabels = arrays['frActual']\n",
    "respLabels = respLabels.transpose()\n",
    "respLabels = respLabels[:,0:numOfDat]\n",
    "#print(datOut.shape) # 20 thousand different trials each is 16k samples long. +\n",
    "\n",
    "\n",
    "#datLabels = np.empty((2,numOfDat))\n",
    "#datLabels[0,:] = respLabels\n",
    "#datLabels[1,:] = heartLabels\n",
    "\n",
    "#datLabels= datLabels.transpose()\n",
    "tNum = datOut.shape[0]\n",
    "\n",
    "x_dat = datOut[:,0:]\n",
    "#y_dat = datLabels[:,:] \n",
    "\n",
    "\n",
    "\n",
    "# convert the data to the right type\n",
    "x_dat = x_dat.astype('float32')\n",
    "\n",
    "\n",
    "print('x_dat shape:', x_dat.shape)\n",
    "print(x_dat.shape[0], 'samples')\n",
    "print('y_dat shape:', y_dat.shape)\n",
    "\n",
    "lenDat = x_dat.shape[1]\n",
    "numDat = x_dat.shape[0]"
   ]
  },
  {
   "cell_type": "markdown",
   "id": "9365717e",
   "metadata": {},
   "source": [
    "# Load ML model\n",
    "\n",
    "Load the previously trained ML model\n",
    "\n",
    "Current model uses 1900  data samples for 1 classificaiton (freq estimation)"
   ]
  },
  {
   "cell_type": "code",
   "execution_count": 8,
   "id": "07b03f19",
   "metadata": {},
   "outputs": [
    {
     "name": "stdout",
     "output_type": "stream",
     "text": [
      "(100, 10001)\n"
     ]
    }
   ],
   "source": [
    "    model = keras.models.load_model('Model_fs10k_honly_100/')\n",
    "\n",
    "lenModel = 101\n",
    "\n",
    "\n",
    "print(x_dat.shape)\n"
   ]
  },
  {
   "cell_type": "code",
   "execution_count": 9,
   "id": "a9ae4c3d",
   "metadata": {},
   "outputs": [
    {
     "name": "stdout",
     "output_type": "stream",
     "text": [
      "9900\n",
      "0.00 Percent Done \n",
      "1.01 Percent Done \n",
      "2.02 Percent Done \n",
      "3.03 Percent Done \n",
      "4.04 Percent Done \n",
      "5.05 Percent Done \n",
      "6.06 Percent Done \n",
      "7.07 Percent Done \n",
      "8.08 Percent Done \n",
      "9.09 Percent Done \n",
      "10.10 Percent Done \n",
      "11.11 Percent Done \n",
      "12.12 Percent Done \n",
      "13.13 Percent Done \n",
      "14.14 Percent Done \n",
      "15.15 Percent Done \n",
      "16.16 Percent Done \n",
      "17.17 Percent Done \n",
      "18.18 Percent Done \n",
      "19.19 Percent Done \n",
      "20.20 Percent Done \n",
      "21.21 Percent Done \n",
      "22.22 Percent Done \n",
      "23.23 Percent Done \n",
      "24.24 Percent Done \n",
      "25.25 Percent Done \n",
      "26.26 Percent Done \n",
      "27.27 Percent Done \n",
      "28.28 Percent Done \n",
      "29.29 Percent Done \n",
      "30.30 Percent Done \n",
      "31.31 Percent Done \n",
      "32.32 Percent Done \n",
      "33.33 Percent Done \n",
      "34.34 Percent Done \n",
      "35.35 Percent Done \n",
      "36.36 Percent Done \n",
      "37.37 Percent Done \n",
      "38.38 Percent Done \n",
      "39.39 Percent Done \n",
      "40.40 Percent Done \n",
      "41.41 Percent Done \n",
      "42.42 Percent Done \n",
      "43.43 Percent Done \n",
      "44.44 Percent Done \n",
      "45.45 Percent Done \n",
      "46.46 Percent Done \n",
      "47.47 Percent Done \n",
      "48.48 Percent Done \n",
      "49.49 Percent Done \n",
      "50.51 Percent Done \n",
      "51.52 Percent Done \n",
      "52.53 Percent Done \n",
      "53.54 Percent Done \n",
      "54.55 Percent Done \n",
      "55.56 Percent Done \n",
      "56.57 Percent Done \n",
      "57.58 Percent Done \n",
      "58.59 Percent Done \n",
      "59.60 Percent Done \n",
      "60.61 Percent Done \n",
      "61.62 Percent Done \n",
      "62.63 Percent Done \n",
      "63.64 Percent Done \n",
      "64.65 Percent Done \n",
      "65.66 Percent Done \n",
      "66.67 Percent Done \n",
      "67.68 Percent Done \n",
      "68.69 Percent Done \n",
      "69.70 Percent Done \n",
      "70.71 Percent Done \n",
      "71.72 Percent Done \n",
      "72.73 Percent Done \n",
      "73.74 Percent Done \n",
      "74.75 Percent Done \n",
      "75.76 Percent Done \n",
      "76.77 Percent Done \n",
      "77.78 Percent Done \n",
      "78.79 Percent Done \n",
      "79.80 Percent Done \n",
      "80.81 Percent Done \n",
      "81.82 Percent Done \n",
      "82.83 Percent Done \n",
      "83.84 Percent Done \n",
      "84.85 Percent Done \n",
      "85.86 Percent Done \n",
      "86.87 Percent Done \n",
      "87.88 Percent Done \n",
      "88.89 Percent Done \n",
      "89.90 Percent Done \n",
      "90.91 Percent Done \n",
      "91.92 Percent Done \n",
      "92.93 Percent Done \n",
      "93.94 Percent Done \n",
      "94.95 Percent Done \n",
      "95.96 Percent Done \n",
      "96.97 Percent Done \n",
      "97.98 Percent Done \n",
      "98.99 Percent Done \n"
     ]
    }
   ],
   "source": [
    "from IPython.display import clear_output\n",
    "\n",
    "\n",
    "countVec = range(0,lenDat-lenModel,1)\n",
    "#countVec = np.arange(0,lenDat-lenModel,500)\n",
    "\n",
    "cvSize = len(countVec)\n",
    "\n",
    "freqMat = np.zeros((1,2,cvSize +1))\n",
    "cc=0\n",
    "print(len(countVec))\n",
    "for k in countVec:\n",
    "    freqMat[0,:,cc] = model.predict(x_dat[0:1,k:k+lenModel])\n",
    "    if cc %100 ==0:\n",
    "        print('%.2f Percent Done '%((cc/cvSize)*100))\n",
    "    cc+=1\n",
    "    #print('%.2f Percent Done '%((cc/cvSize)*100))"
   ]
  },
  {
   "cell_type": "code",
   "execution_count": 20,
   "id": "3a1287dc",
   "metadata": {},
   "outputs": [],
   "source": [
    "freqEst = freqMat[0,1,:]\n",
    "\n",
    "filtLen = 2\n",
    "hn  = (1/filtLen)*np.ones((filtLen,))\n",
    "freqEstFilt = np.convolve(freqEst,hn,'valid')\n",
    "\n",
    "\n",
    "freqEstFilt = freqEst[freqEst > np.mean(freqEst)]\n",
    "#freqEstFilt = sig.decimate(freqEstFilt,14)"
   ]
  },
  {
   "cell_type": "code",
   "execution_count": 25,
   "id": "d8e5db30",
   "metadata": {},
   "outputs": [
    {
     "data": {
      "image/png": "[encoded data removed]",
      "text/plain": [
       "<Figure size 432x288 with 1 Axes>"
      ]
     },
     "metadata": {
      "needs_background": "light"
     },
     "output_type": "display_data"
    },
    {
     "name": "stdout",
     "output_type": "stream",
     "text": [
      "4958\n"
     ]
    }
   ],
   "source": [
    "\n",
    "#np.savetxt(\"foo.csv\", freqEstFilt, delimiter=\",\")\n",
    "lenEst = len(freqEstFilt)\n",
    "ts = 1/10000\n",
    "tsy = 1/10000\n",
    "t = np.linspace(0,40,lenEst)\n",
    "\n",
    "\n",
    "#realFreq = np.linspace(y_dat[0,1],y_dat[0,1]+1,cvSize+1)\n",
    "\n",
    "plt.plot(t,(freqEstFilt))\n",
    "plt.ylabel('Frequency')\n",
    "plt.xlabel('time (s)')\n",
    "plt.legend(['Predicted Freqeuncy','Actual Frequency'])\n",
    "plt.title('Heart Rate Frequency Estimate Comparison')\n",
    "plt.show()\n",
    "print(len(freqEstFilt))\n"
   ]
  },
  {
   "cell_type": "code",
   "execution_count": 39,
   "id": "a8ad9a5b",
   "metadata": {},
   "outputs": [
    {
     "name": "stdout",
     "output_type": "stream",
     "text": [
      "(4958,)\n",
      "2\n",
      "(5001,)\n"
     ]
    },
    {
     "data": {
      "image/png": "[encoded data removed]",
      "text/plain": [
       "<Figure size 432x288 with 1 Axes>"
      ]
     },
     "metadata": {
      "needs_background": "light"
     },
     "output_type": "display_data"
    }
   ],
   "source": [
    "ts = 1/10000\n",
    "t = np.linspace(0,40,lenEst)\n",
    "\n",
    "print(t.shape)\n",
    "#realFreq = np.linspace(y_dat[0,1],y_dat[0,1]+1,cvSize+1)\n",
    "\n",
    "print(round(lenDat/lenEst))\n",
    "y_dat_dec = sig.decimate(y_dat,round(lenDat/lenEst))\n",
    "\n",
    "\n",
    "print(y_dat_dec.shape)\n",
    "plt.plot(t,y_dat_dec[0:lenEst])\n",
    "plt.plot(t,(freqEstFilt))\n",
    "plt.ylabel('Frequency')\n",
    "plt.xlabel('time (s)')\n",
    "plt.legend(['Predicted Freqeuncy','Actual Frequency'])\n",
    "plt.title('Heart Rate Frequency Estimate Comparison')\n",
    "plt.show()"
   ]
  },
  {
   "cell_type": "code",
   "execution_count": 13,
   "id": "c3daddbc",
   "metadata": {},
   "outputs": [
    {
     "name": "stdout",
     "output_type": "stream",
     "text": [
      "(101,)\n",
      "(101,)\n"
     ]
    },
    {
     "data": {
      "image/png": "[encoded data removed]",
      "text/plain": [
       "<Figure size 432x288 with 1 Axes>"
      ]
     },
     "metadata": {
      "needs_background": "light"
     },
     "output_type": "display_data"
    }
   ],
   "source": [
    "\n",
    "t = np.linspace(0,1,lenModel)\n",
    "k = countVec[3]\n",
    "print(t.shape)\n",
    "q=x_dat[0:1,0:lenModel]\n",
    "q=q.reshape(lenModel,)\n",
    "print(q.shape)\n",
    "plt.plot(q)\n",
    "plt.show()"
   ]
  },
  {
   "cell_type": "code",
   "execution_count": null,
   "id": "f636b718",
   "metadata": {},
   "outputs": [],
   "source": []
  },
  {
   "cell_type": "code",
   "execution_count": null,
   "id": "0aeb9545",
   "metadata": {},
   "outputs": [],
   "source": []
  },
  {
   "cell_type": "code",
   "execution_count": null,
   "id": "8f46f5d5",
   "metadata": {},
   "outputs": [],
   "source": []
  },
  {
   "cell_type": "code",
   "execution_count": null,
   "id": "6dfa94eb",
   "metadata": {},
   "outputs": [],
   "source": []
  }
 ],
 "metadata": {
  "kernelspec": {
   "display_name": "Python 3",
   "language": "python",
   "name": "python3"
  },
  "language_info": {
   "codemirror_mode": {
    "name": "ipython",
    "version": 3
   },
   "file_extension": ".py",
   "mimetype": "text/x-python",
   "name": "python",
   "nbconvert_exporter": "python",
   "pygments_lexer": "ipython3",
   "version": "3.8.8"
  }
 },
 "nbformat": 4,
 "nbformat_minor": 5
}

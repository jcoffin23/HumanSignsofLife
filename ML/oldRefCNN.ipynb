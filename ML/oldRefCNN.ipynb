{
 "cells": [
  {
   "cell_type": "markdown",
   "metadata": {},
   "source": [
    "## Computer Exercise #05 ##\n",
    "\n",
    "### Load the Common Imports ###"
   ]
  },
  {
   "cell_type": "code",
   "execution_count": 1,
   "metadata": {},
   "outputs": [
    {
     "name": "stdout",
     "output_type": "stream",
     "text": [
      "2.4.3\n"
     ]
    }
   ],
   "source": [
    "import keras\n",
    "import numpy as np\n",
    "import matplotlib\n",
    "import matplotlib.pyplot as plt\n",
    "from keras import Input as Input\n",
    "from keras.datasets import mnist\n",
    "from keras.layers import Dense, Flatten\n",
    "from keras.layers import Conv2D, MaxPooling2D\n",
    "from keras.models import Sequential\n",
    "from keras.layers import Dropout\n",
    "from keras import layers\n",
    "from keras.layers import BatchNormalization\n",
    "\n",
    "print(keras.__version__)"
   ]
  },
  {
   "cell_type": "markdown",
   "metadata": {},
   "source": [
    "### Load the Dataset ###"
   ]
  },
  {
   "cell_type": "code",
   "execution_count": 2,
   "metadata": {},
   "outputs": [
    {
     "name": "stdout",
     "output_type": "stream",
     "text": [
      "Downloading data from https://storage.googleapis.com/tensorflow/tf-keras-datasets/mnist.npz\n",
      "11493376/11490434 [==============================] - 1s 0us/step\n",
      "(60000, 28, 28)\n",
      "(60000,)\n"
     ]
    }
   ],
   "source": [
    "# load the MNIST data set, which already splits into training and test sets.\n",
    "(x_train, y_train), (x_test, y_test) = mnist.load_data()\n",
    "print(x_train.shape)\n",
    "print(y_train.shape)"
   ]
  },
  {
   "cell_type": "markdown",
   "metadata": {},
   "source": [
    "### Plot a Sample Image ###"
   ]
  },
  {
   "cell_type": "code",
   "execution_count": 3,
   "metadata": {},
   "outputs": [
    {
     "data": {
      "image/png": "[encoded data removed]",
      "text/plain": [
       "<Figure size 432x288 with 1 Axes>"
      ]
     },
     "metadata": {
      "needs_background": "light"
     },
     "output_type": "display_data"
    }
   ],
   "source": [
    "plt.imshow(x_train[0], cmap=matplotlib.cm.binary, interpolation=\"nearest\")\n",
    "plt.axis(\"off\")\n",
    "plt.show()"
   ]
  },
  {
   "cell_type": "markdown",
   "metadata": {},
   "source": [
    "### Reshape and Scale the Data ###"
   ]
  },
  {
   "cell_type": "code",
   "execution_count": 4,
   "metadata": {},
   "outputs": [
    {
     "name": "stdout",
     "output_type": "stream",
     "text": [
      "x_train shape: (60000, 28, 28, 1)\n",
      "60000 train samples\n",
      "10000 test samples\n",
      "()\n"
     ]
    }
   ],
   "source": [
    "# input image dimensions\n",
    "img_x, img_y = 28, 28\n",
    "#Reshape the data into a 4d tensor\n",
    "x_train = x_train.reshape(x_train.shape[0], img_x, img_y, 1)\n",
    "x_test = x_test.reshape(x_test.shape[0], img_x, img_y, 1)\n",
    "input_shape = (img_x, img_y, 1)\n",
    "\n",
    "# convert the data to the right type\n",
    "x_train = x_train.astype('float32')\n",
    "x_test = x_test.astype('float32')\n",
    "x_train /= 255\n",
    "x_test /= 255\n",
    "\n",
    "print('x_train shape:', x_train.shape)\n",
    "print(x_train.shape[0], 'train samples')\n",
    "print(x_test.shape[0], 'test samples')\n",
    "\n",
    "print(y_train[0].shape)\n"
   ]
  },
  {
   "cell_type": "markdown",
   "metadata": {},
   "source": [
    "### Convert class vectors to binary class matrices ###\n",
    "\n",
    "This is the one to use with the `categorical_crossentropy` loss."
   ]
  },
  {
   "cell_type": "code",
   "execution_count": 5,
   "metadata": {},
   "outputs": [
    {
     "name": "stdout",
     "output_type": "stream",
     "text": [
      "(10,)\n",
      "[0. 0. 0. 0. 0. 1. 0. 0. 0. 0.]\n"
     ]
    }
   ],
   "source": [
    "\n",
    "\n",
    "num_classes = 10 # Number of classes\n",
    "if y_train[0].shape != ():\n",
    "    print('Did not increase y_train') #Put this so that data doesnt grow a dim every time it runs\n",
    "else:\n",
    "    y_train = keras.utils.to_categorical(y_train, num_classes)\n",
    "    y_test = keras.utils.to_categorical(y_test, num_classes)\n",
    "x=y_train[0].shape \n",
    "print(x)\n",
    "print(y_train[0])"
   ]
  },
  {
   "cell_type": "markdown",
   "metadata": {},
   "source": [
    "### A Simple Example ###"
   ]
  },
  {
   "cell_type": "code",
   "execution_count": 6,
   "metadata": {
    "scrolled": true
   },
   "outputs": [
    {
     "name": "stdout",
     "output_type": "stream",
     "text": [
      "Model: \"sequential\"\n",
      "_________________________________________________________________\n",
      "Layer (type)                 Output Shape              Param #   \n",
      "=================================================================\n",
      "dense (Dense)                (None, 28, 32)            928       \n",
      "_________________________________________________________________\n",
      "dense_1 (Dense)              (None, 28, 32)            1056      \n",
      "=================================================================\n",
      "Total params: 1,984\n",
      "Trainable params: 1,984\n",
      "Non-trainable params: 0\n",
      "_________________________________________________________________\n",
      "None\n"
     ]
    }
   ],
   "source": [
    "model = Sequential()\n",
    "model.add(Input(shape=(28,28,)))\n",
    "model.add(Dense(32,))\n",
    "model.add(Dense(32))\n",
    "\n",
    "\n",
    "print(model.summary())\n",
    "\n",
    "\n",
    "\n",
    "\n",
    "\n"
   ]
  },
  {
   "cell_type": "markdown",
   "metadata": {},
   "source": [
    "# Discussion -  Shape of Network\n",
    "The network designed above has 2 dense layers. The output size of the layers is (none,28,32). The layer size is (batch size, size of map). In this case the Batch size is not known until training and each feature map will be 28x32 since each ense layer has 32 Neurons which each output being 28x32. This is true for both layers. This creates a total of 1984 params. Since there is not activation function applied, then no activation is done, ie this is linear and thus the activation looks like a(x) = x. \n"
   ]
  },
  {
   "cell_type": "markdown",
   "metadata": {},
   "source": [
    "### Assignment ###\n",
    "Construct a network to perform logistic regression on the MNIST dataset"
   ]
  },
  {
   "cell_type": "markdown",
   "metadata": {},
   "source": [
    "### A More Complicated Model ###"
   ]
  },
  {
   "cell_type": "code",
   "execution_count": 7,
   "metadata": {},
   "outputs": [
    {
     "name": "stdout",
     "output_type": "stream",
     "text": [
      "Model: \"sequential_1\"\n",
      "_________________________________________________________________\n",
      "Layer (type)                 Output Shape              Param #   \n",
      "=================================================================\n",
      "conv2d (Conv2D)              (None, 24, 24, 32)        832       \n",
      "_________________________________________________________________\n",
      "max_pooling2d (MaxPooling2D) (None, 12, 12, 32)        0         \n",
      "_________________________________________________________________\n",
      "conv2d_1 (Conv2D)            (None, 8, 8, 64)          51264     \n",
      "_________________________________________________________________\n",
      "max_pooling2d_1 (MaxPooling2 (None, 4, 4, 64)          0         \n",
      "_________________________________________________________________\n",
      "flatten (Flatten)            (None, 1024)              0         \n",
      "_________________________________________________________________\n",
      "dense_2 (Dense)              (None, 1000)              1025000   \n",
      "_________________________________________________________________\n",
      "dense_3 (Dense)              (None, 10)                10010     \n",
      "=================================================================\n",
      "Total params: 1,087,106\n",
      "Trainable params: 1,087,106\n",
      "Non-trainable params: 0\n",
      "_________________________________________________________________\n",
      "None\n"
     ]
    }
   ],
   "source": [
    "num_classes=10\n",
    "model = Sequential()\n",
    "model.add(Input(shape=(28,28,1)))\n",
    "model.add(Conv2D(32, kernel_size=(5, 5), strides=(1, 1), activation='relu'))\n",
    "model.add(MaxPooling2D(pool_size=(2, 2),strides=(2,2),padding='same'))\n",
    "model.add(Conv2D(64, (5, 5), activation='relu'))\n",
    "model.add(MaxPooling2D(pool_size=(2, 2)))\n",
    "model.add(Flatten())\n",
    "model.add(Dense(1000, activation='relu'))\n",
    "model.add(Dense(num_classes, activation='softmax'))\n",
    "\n",
    "\n",
    "print(model.summary())"
   ]
  },
  {
   "cell_type": "markdown",
   "metadata": {},
   "source": [
    "### Compile the Model ###\n",
    "\n",
    "Here is a compilation of a simple model for recognition of images in the MNIST dataset."
   ]
  },
  {
   "cell_type": "code",
   "execution_count": 8,
   "metadata": {},
   "outputs": [],
   "source": [
    "# A Simple Model\n",
    "model = Sequential()\n",
    "model.add(Input(shape=(28,28,1)))\n",
    "model.add(Flatten())\n",
    "model.add(Dense(num_classes, activation='softmax'))\n",
    "#\n",
    "model.compile(loss=keras.losses.categorical_crossentropy,\n",
    "              optimizer=keras.optimizers.Adam(),\n",
    "              metrics=['accuracy'])"
   ]
  },
  {
   "cell_type": "markdown",
   "metadata": {},
   "source": [
    "### Define the Learning Parameters ###\n",
    "\n",
    "Put in your own numbers.  These are simply placeholders and not necessarily the right numbers to use.  "
   ]
  },
  {
   "cell_type": "markdown",
   "metadata": {},
   "source": [
    "## MNIST Character Recognition ##\n",
    "Assignment to design one-hidden layer and two-hidden layer MLPs using different structures, and do the same for CNNs.  See assignment for details"
   ]
  },
  {
   "cell_type": "code",
   "execution_count": 33,
   "metadata": {},
   "outputs": [],
   "source": [
    "batch_size = 100  # Set the batch size\n",
    "epochs = 10 # Set the number of epochs"
   ]
  },
  {
   "cell_type": "markdown",
   "metadata": {},
   "source": [
    "### Train the Model ###"
   ]
  },
  {
   "cell_type": "code",
   "execution_count": 44,
   "metadata": {},
   "outputs": [
    {
     "name": "stdout",
     "output_type": "stream",
     "text": [
      "Epoch 1/10\n",
      "402/402 [==============================] - 1s 2ms/step - loss: 0.5915 - accuracy: 0.8224 - val_loss: 0.2744 - val_accuracy: 0.9200\n",
      "Epoch 2/10\n",
      "402/402 [==============================] - 1s 3ms/step - loss: 0.3467 - accuracy: 0.8953 - val_loss: 0.2085 - val_accuracy: 0.9406\n",
      "Epoch 3/10\n",
      "402/402 [==============================] - 1s 2ms/step - loss: 0.2783 - accuracy: 0.9154 - val_loss: 0.1733 - val_accuracy: 0.9488\n",
      "Epoch 4/10\n",
      "402/402 [==============================] - 1s 2ms/step - loss: 0.2436 - accuracy: 0.9259 - val_loss: 0.1582 - val_accuracy: 0.9520\n",
      "Epoch 5/10\n",
      "402/402 [==============================] - 1s 2ms/step - loss: 0.2173 - accuracy: 0.9340 - val_loss: 0.1428 - val_accuracy: 0.9577\n",
      "Epoch 6/10\n",
      "402/402 [==============================] - 1s 2ms/step - loss: 0.1954 - accuracy: 0.9391 - val_loss: 0.1260 - val_accuracy: 0.9625\n",
      "Epoch 7/10\n",
      "402/402 [==============================] - 1s 2ms/step - loss: 0.1808 - accuracy: 0.9453 - val_loss: 0.1194 - val_accuracy: 0.9631\n",
      "Epoch 8/10\n",
      "402/402 [==============================] - 1s 2ms/step - loss: 0.1723 - accuracy: 0.9465 - val_loss: 0.1196 - val_accuracy: 0.9636\n",
      "Epoch 9/10\n",
      "402/402 [==============================] - 1s 3ms/step - loss: 0.1551 - accuracy: 0.9513 - val_loss: 0.1111 - val_accuracy: 0.9668\n",
      "Epoch 10/10\n",
      "402/402 [==============================] - 1s 2ms/step - loss: 0.1476 - accuracy: 0.9532 - val_loss: 0.1033 - val_accuracy: 0.9687\n",
      "Test loss: 0.09211120754480362\n",
      "Test accuracy: 0.9710000157356262\n"
     ]
    }
   ],
   "source": [
    "# One Hidden Layer\n",
    "\n",
    "\n",
    "initializer = keras.initializers.RandomNormal(mean=0., stddev=5.)\n",
    "model = Sequential()\n",
    "model.add(Input(shape=(28,28,1)))\n",
    "model.add(Flatten())\n",
    "model.add(Dropout(rate = .5,seed = 7))\n",
    "model.add(Dense(100, activation='relu',kernel_initializer=None,kernel_constraint=None))\n",
    "model.add(Dense(num_classes, activation='softmax'))\n",
    "#\n",
    "model.compile(loss=keras.losses.categorical_crossentropy,\n",
    "              optimizer=keras.optimizers.Adam(),\n",
    "              metrics=['accuracy'])\n",
    "\n",
    "\n",
    "\n",
    "hist = model.fit(x_train, y_train,\n",
    "          batch_size=batch_size,\n",
    "          epochs=epochs,\n",
    "          verbose=1,\n",
    "          validation_split=0.33,\n",
    "          callbacks=None) #[history])\n",
    "\n",
    "#\n",
    "# Print what is in hist.history\n",
    "#\n",
    "#print('history contains: ', hist.history)\n",
    "\n",
    "score = model.evaluate(x_test, y_test, verbose=0)\n",
    "print('Test loss:', score[0])\n",
    "print('Test accuracy:', score[1])"
   ]
  },
  {
   "cell_type": "markdown",
   "metadata": {},
   "source": [
    "# Discussion about One Hidden Layer\n",
    "\n",
    "The structure is simple, an input layer, then a flatten, then the Dense hidden layer followed by softmax output layer. \n",
    "\n",
    "With the single hidden layer the only parameters to play with are the ones of the Dense layer. The activation funtion, bias, kernel initialization, bias initialization, kernel regularizer, and constriaints were some that I exaimed. No significant difference was found for different activation functions, but ReLU seems to be the best. The bias and Initialization seem to only make the system take longer to reach the same CV score, so for that reason I will not be changing any of the initalizer or bias settings moving forward. The most important is the number of Neurons. I started with a small number, 10, and acheived an cv accuracy rate of 92% from 10 epochs. Upping this to 1000 neurons, which decreased the CV accuracy slightly. The big jump in accuracy came with the addition of the ReLu activation function which did not increase accuracy for 10 neurons but upped the 1000 nenurons to 97.3% vladiation. Doubling it to 2000 increases the processing time signicantly but provides little to no benefit. This is a diminishing return and to increase resutls we must look eslewhere.  "
   ]
  },
  {
   "cell_type": "markdown",
   "metadata": {},
   "source": [
    "# Discussion About Two Hidden Layer\n",
    "\n",
    "The NN with Two hidden Layers increases the amount of flexibility, but also ups the complexity. Leaving the second layer as a 1000 neuron ReLu layer, which worked well in the first case, the only thing to configure is the first Dense layer. To start I set this to have 10 neurons and with a ReLU activation function. This netted no increase in accuracy with a CV score of about 97.46% after 10 epochs. Getting rid of the activation function lowerd the CV score to 97.2% So it will be used for both layers. \n",
    "\n",
    "Upping the neurons in the first layer increased the parameters to be learned from 8 million to 80 million but upped the CV score back to 97.48%, but at 30 minutes training time as opposed to 3 minutes in the single hidden layer case above. Adding a BatchNormalization layer did not seem to help, but did seem to make things worse. The same is true for a dropout layer. A two hidden layer seems like it would need to have many many neuronsto get close to 99% CV score. Two 1000 neuron dense layers might work, but that would take several hours to run, so I am not going to show the results and instead the base line for Hidden layer NN's will be a CV score of 97.48% with a test accuracy of 97.2% \n"
   ]
  },
  {
   "cell_type": "code",
   "execution_count": 103,
   "metadata": {},
   "outputs": [
    {
     "name": "stdout",
     "output_type": "stream",
     "text": [
      "Epoch 1/10\n",
      "402/402 [==============================] - 47s 117ms/step - loss: 0.3791 - accuracy: 0.8897 - val_loss: 0.5693 - val_accuracy: 0.8716\n",
      "Epoch 2/10\n",
      "402/402 [==============================] - 48s 119ms/step - loss: 0.2900 - accuracy: 0.9169 - val_loss: 0.2939 - val_accuracy: 0.9189\n",
      "Epoch 3/10\n",
      "402/402 [==============================] - 48s 120ms/step - loss: 0.2708 - accuracy: 0.9231 - val_loss: 0.2974 - val_accuracy: 0.9155\n",
      "Epoch 4/10\n",
      "402/402 [==============================] - 50s 126ms/step - loss: 0.2465 - accuracy: 0.9297 - val_loss: 0.2732 - val_accuracy: 0.9278\n",
      "Epoch 5/10\n",
      "402/402 [==============================] - 49s 122ms/step - loss: 0.2255 - accuracy: 0.9364 - val_loss: 0.2646 - val_accuracy: 0.9248\n",
      "Epoch 6/10\n",
      "402/402 [==============================] - 48s 120ms/step - loss: 0.2078 - accuracy: 0.9386 - val_loss: 0.2656 - val_accuracy: 0.9276\n",
      "Epoch 7/10\n",
      "402/402 [==============================] - 47s 118ms/step - loss: 0.1916 - accuracy: 0.9432 - val_loss: 0.2691 - val_accuracy: 0.9271\n",
      "Epoch 8/10\n",
      "402/402 [==============================] - 47s 116ms/step - loss: 0.1836 - accuracy: 0.9461 - val_loss: 0.2582 - val_accuracy: 0.9286\n",
      "Epoch 9/10\n",
      "402/402 [==============================] - 47s 116ms/step - loss: 0.1694 - accuracy: 0.9505 - val_loss: 0.2864 - val_accuracy: 0.9260\n",
      "Epoch 10/10\n",
      "402/402 [==============================] - 47s 116ms/step - loss: 0.1651 - accuracy: 0.9503 - val_loss: 0.2830 - val_accuracy: 0.9199\n",
      "Test loss: 0.2745872139930725\n",
      "Test accuracy: 0.92330002784729\n"
     ]
    }
   ],
   "source": [
    "# Two Hidden Layer\n",
    "\n",
    "\n",
    "initializer = keras.initializers.RandomNormal(mean=0., stddev=5.)\n",
    "model = Sequential()\n",
    "model.add(Input(shape=(28,28,1)))\n",
    "\n",
    "model.add(Dense(1000,activation='relu'))\n",
    "model.add(BatchNormalization(axis=3,trainable=True))\n",
    "model.add(Dense(10, activation='relu'))\n",
    "\n",
    "\n",
    "\n",
    "model.add(Flatten())\n",
    "model.add(Dense(num_classes, activation='softmax'))\n",
    "#\n",
    "model.compile(loss=keras.losses.categorical_crossentropy,\n",
    "              optimizer=keras.optimizers.Adam(),\n",
    "              metrics=['accuracy'])\n",
    "\n",
    "\n",
    "\n",
    "hist = model.fit(x_train, y_train,\n",
    "          batch_size=batch_size,\n",
    "          epochs=epochs,\n",
    "          verbose=1,\n",
    "          validation_split=0.33,\n",
    "          callbacks=None) #[history])\n",
    "\n",
    "#\n",
    "# Print what is in hist.history\n",
    "#\n",
    "#print('history contains: ', hist.history)\n",
    "\n",
    "score = model.evaluate(x_test, y_test, verbose=0)\n",
    "print('Test loss:', score[0])\n",
    "print('Test accuracy:', score[1])"
   ]
  },
  {
   "cell_type": "code",
   "execution_count": 105,
   "metadata": {},
   "outputs": [
    {
     "name": "stdout",
     "output_type": "stream",
     "text": [
      "Model: \"sequential_68\"\n",
      "_________________________________________________________________\n",
      "Layer (type)                 Output Shape              Param #   \n",
      "=================================================================\n",
      "conv2d_68 (Conv2D)           (None, 24, 24, 64)        1664      \n",
      "_________________________________________________________________\n",
      "dropout_24 (Dropout)         (None, 24, 24, 64)        0         \n",
      "_________________________________________________________________\n",
      "max_pooling2d_66 (MaxPooling (None, 12, 12, 64)        0         \n",
      "_________________________________________________________________\n",
      "conv2d_69 (Conv2D)           (None, 8, 8, 128)         204928    \n",
      "_________________________________________________________________\n",
      "batch_normalization_28 (Batc (None, 8, 8, 128)         512       \n",
      "_________________________________________________________________\n",
      "max_pooling2d_67 (MaxPooling (None, 4, 4, 128)         0         \n",
      "_________________________________________________________________\n",
      "flatten_61 (Flatten)         (None, 2048)              0         \n",
      "_________________________________________________________________\n",
      "dense_142 (Dense)            (None, 1000)              2049000   \n",
      "_________________________________________________________________\n",
      "dense_143 (Dense)            (None, 10)                10010     \n",
      "=================================================================\n",
      "Total params: 2,266,114\n",
      "Trainable params: 2,265,858\n",
      "Non-trainable params: 256\n",
      "_________________________________________________________________\n"
     ]
    }
   ],
   "source": [
    "model.summary()"
   ]
  },
  {
   "cell_type": "code",
   "execution_count": 46,
   "metadata": {},
   "outputs": [],
   "source": [
    "#CNN\n",
    "\n",
    "\n",
    "\n",
    "num_classes=10\n",
    "model = Sequential()\n",
    "model.add(Input(shape=(28,28,1)))\n",
    "model.add(Conv2D(64, kernel_size=(5, 5), strides=(1, 1), activation='relu'))\n",
    "model.add(Dropout(rate = .5,seed = 7))\n",
    "model.add(MaxPooling2D(pool_size=(2, 2),strides=(2,2),padding='same'))\n",
    "model.add(Conv2D(128, (5, 5), activation='relu'))\n",
    "model.add(BatchNormalization(axis=3,trainable=True))\n",
    "model.add(MaxPooling2D(pool_size=(2, 2)))\n",
    "model.add(Flatten())\n",
    "model.add(Dense(1000, activation='relu'))\n",
    "model.add(Dense(num_classes, activation='softmax'))\n",
    "\n",
    "\n",
    "\n",
    "#\n",
    "#"
   ]
  },
  {
   "cell_type": "code",
   "execution_count": 109,
   "metadata": {},
   "outputs": [
    {
     "name": "stdout",
     "output_type": "stream",
     "text": [
      "Epoch 1/10\n",
      "41/41 [==============================] - 45s 1s/step - loss: 0.5888 - accuracy: 0.8553 - val_loss: 1.7602 - val_accuracy: 0.8786\n",
      "Epoch 2/10\n",
      "41/41 [==============================] - 46s 1s/step - loss: 0.0684 - accuracy: 0.9787 - val_loss: 1.5578 - val_accuracy: 0.9684\n",
      "Epoch 3/10\n",
      "41/41 [==============================] - 47s 1s/step - loss: 0.0389 - accuracy: 0.9882 - val_loss: 1.3413 - val_accuracy: 0.9777\n",
      "Epoch 4/10\n",
      "41/41 [==============================] - 47s 1s/step - loss: 0.0258 - accuracy: 0.9926 - val_loss: 1.0685 - val_accuracy: 0.9812\n",
      "Epoch 5/10\n",
      "41/41 [==============================] - 47s 1s/step - loss: 0.0190 - accuracy: 0.9945 - val_loss: 0.7784 - val_accuracy: 0.9783\n",
      "Epoch 6/10\n",
      "41/41 [==============================] - 47s 1s/step - loss: 0.0157 - accuracy: 0.9952 - val_loss: 0.5102 - val_accuracy: 0.9806\n",
      "Epoch 7/10\n",
      "41/41 [==============================] - 47s 1s/step - loss: 0.0110 - accuracy: 0.9967 - val_loss: 0.3566 - val_accuracy: 0.9814\n",
      "Epoch 8/10\n",
      "41/41 [==============================] - 46s 1s/step - loss: 0.0086 - accuracy: 0.9978 - val_loss: 0.2186 - val_accuracy: 0.9824\n",
      "Epoch 9/10\n",
      "41/41 [==============================] - 46s 1s/step - loss: 0.0049 - accuracy: 0.9990 - val_loss: 0.1390 - val_accuracy: 0.9828\n",
      "Epoch 10/10\n",
      "41/41 [==============================] - 45s 1s/step - loss: 0.0035 - accuracy: 0.9994 - val_loss: 0.0901 - val_accuracy: 0.9865\n",
      "Test loss: 0.08619378507137299\n",
      "Test accuracy: 0.9864000082015991\n"
     ]
    }
   ],
   "source": [
    "model.compile(loss=keras.losses.categorical_crossentropy,\n",
    "              optimizer=keras.optimizers.Adam(),\n",
    "              metrics=['accuracy'])\n",
    "\n",
    "\n",
    "\n",
    "hist = model.fit(x_train, y_train,\n",
    "          batch_size=batch_size,\n",
    "          epochs=epochs,\n",
    "          verbose=1,\n",
    "          validation_split=0.33,\n",
    "          callbacks=None) #[history])\n",
    "\n",
    "#\n",
    "# Print what is in hist.history\n",
    "#\n",
    "#print('history contains: ', hist.history)\n",
    "\n",
    "score = model.evaluate(x_test, y_test, verbose=0)\n",
    "print('Test loss:', score[0])\n",
    "print('Test accuracy:', score[1])"
   ]
  },
  {
   "cell_type": "markdown",
   "metadata": {},
   "source": [
    "# Discussion - CNN\n",
    "The structure of my CNN is as follows: Input layer, 64 filter CNN layer with 5x5 kernal and a stride of 1,1 with RelU activation.  This is immediatly followed by a Drouput layer to turn neurons off with a rate of 50%. \n",
    "This goes into a 2x2 max pooler to reduce data which in turn goes into a second Conv layer of 128 neurons but with 5x5 stride and a 5x5 kernel. This output goes into the batch normalization function which is trainable so all of its parameters are trained automatiicly. After normalization, the data is pooled, flattened and set to the 1000 neuron Dense layer and then the output layer. Doing this the CV score was brought up to 98.86% for the finnial epoch with a test accuracy of 99.06%. This is far greater than the more complicated and longer to train Hidden layer methods above, in fact this model has only 2.2 million neurons to train. \n",
    "\n",
    "The batch size was fixed to 100 after a couple tests.  The smaller the number the longer the testing takes. At a batch of 10 the CNN took just over 1 minute per epoch, at a batch size of 1000 it took just under 30 seconds. The smaller the batch size, the more batches get run through the model so this is approproate. This also explains why with a smaller batch size the model increases its accuracy slightly \n",
    "\n",
    "A Dense layer is a fully connected layer. Atleast one is needed for the output layer that will take all of the previous neuron data and turn it into a softmax output. I use a second Dense layer right before this aswell, although it is not needed, it increases performance.\n",
    "\n",
    "Batch normalization proved to be very important to my results. It increased my resultus by about 0.5%. But I had to put one only after the second Conv layer or else  It was easy to use aswell, because the parameters were marked as Trainable so that the training algorithm will go through and train the parameters for me. \n",
    "\n",
    "A dropout is when neurons are \"turned off\" at a rate picked by me. This is a method to reduce overfitting and it works so that neurons in one layer dont co-adapt to learn off of a mistake in the previous layer. Reducing these coadaptions reduces complexity which reduces overfitting. \n"
   ]
  },
  {
   "cell_type": "markdown",
   "metadata": {},
   "source": [
    "# Model Summary ###"
   ]
  },
  {
   "cell_type": "markdown",
   "metadata": {},
   "source": [
    "### Plot Model Accuracy vs Epoch ###"
   ]
  },
  {
   "cell_type": "code",
   "execution_count": 110,
   "metadata": {},
   "outputs": [
    {
     "data": {
      "image/png": "[encoded data removed]",
      "text/plain": [
       "<Figure size 432x288 with 1 Axes>"
      ]
     },
     "metadata": {
      "needs_background": "light"
     },
     "output_type": "display_data"
    }
   ],
   "source": [
    "plt.plot(hist.history['accuracy'])\n",
    "plt.plot(hist.history['val_accuracy'])\n",
    "plt.title('model accuracy')\n",
    "plt.ylabel('accuracy')\n",
    "plt.xlabel('epoch')\n",
    "plt.legend(['train', 'test'], loc='upper left')\n",
    "plt.show()"
   ]
  },
  {
   "cell_type": "markdown",
   "metadata": {},
   "source": [
    "### Make Some Predictions ###"
   ]
  },
  {
   "cell_type": "code",
   "execution_count": 111,
   "metadata": {},
   "outputs": [
    {
     "name": "stdout",
     "output_type": "stream",
     "text": [
      "[[0. 0. 0. 0. 0. 0. 0. 1. 0. 0.]\n",
      " [0. 0. 1. 0. 0. 0. 0. 0. 0. 0.]\n",
      " [0. 1. 0. 0. 0. 0. 0. 0. 0. 0.]\n",
      " [1. 0. 0. 0. 0. 0. 0. 0. 0. 0.]]\n"
     ]
    },
    {
     "data": {
      "text/plain": [
       "array([[1.8854877e-04, 1.0100864e-03, 1.8137695e-04, 8.1075338e-04,\n",
       "        1.4034094e-05, 2.6355131e-04, 7.1966620e-06, 9.9515653e-01,\n",
       "        1.5052402e-04, 2.2175454e-03],\n",
       "       [1.5398539e-03, 1.1055869e-02, 9.8556006e-01, 3.7293491e-04,\n",
       "        1.8411743e-05, 3.2753720e-05, 7.0094148e-04, 5.1188479e-05,\n",
       "        5.9520936e-04, 7.2794865e-05],\n",
       "       [3.9578456e-04, 9.9598926e-01, 3.3922974e-04, 6.9659742e-05,\n",
       "        7.7641761e-04, 3.7614917e-04, 2.9640066e-04, 9.1565616e-04,\n",
       "        5.2868418e-04, 3.1280128e-04],\n",
       "       [9.7615677e-01, 3.8552002e-04, 1.5464196e-03, 2.1269373e-04,\n",
       "        3.5607474e-04, 4.9937743e-04, 1.6557656e-02, 4.8000255e-04,\n",
       "        1.4638560e-03, 2.3416916e-03]], dtype=float32)"
      ]
     },
     "execution_count": 111,
     "metadata": {},
     "output_type": "execute_result"
    }
   ],
   "source": [
    "#predict first 4 images in the test set\n",
    "print(y_test[:4])\n",
    "model.predict(x_test[:4])"
   ]
  },
  {
   "cell_type": "code",
   "execution_count": null,
   "metadata": {},
   "outputs": [],
   "source": []
  },
  {
   "cell_type": "markdown",
   "metadata": {},
   "source": [
    "## Recognition of CIFAR-10 Images ##\n",
    "\n",
    "Here you are to design an image recognition system using this dataset.  This dataset may be loaded using the following commands."
   ]
  },
  {
   "cell_type": "code",
   "execution_count": 83,
   "metadata": {},
   "outputs": [
    {
     "name": "stdout",
     "output_type": "stream",
     "text": [
      "x_train shape: (50000, 32, 32, 3)\n",
      "50000 train samples\n",
      "10000 test samples\n"
     ]
    }
   ],
   "source": [
    "from keras.datasets import cifar10\n",
    "# The data, split between train and test sets:\n",
    "(x_train, y_train), (x_test, y_test) = cifar10.load_data()\n",
    "print('x_train shape:', x_train.shape)\n",
    "print(x_train.shape[0], 'train samples')\n",
    "print(x_test.shape[0], 'test samples')\n",
    "\n",
    "xtt = np.zeros(50000*32*32*1)\n",
    "xtt=xtt.reshape(x_train.shape[0], img_x, img_y, 1)\n",
    "# input image dimensions\n",
    "img_x, img_y = 32,32\n",
    "#Reshape the data into a 4d tensor\n",
    "x_train = x_train.reshape(x_train.shape[0], img_x, img_y, 3)\n",
    "x_test = x_test.reshape(x_test.shape[0], img_x, img_y, 3)\n",
    "input_shape = (img_x, img_y, 1)\n",
    "\n",
    "\n"
   ]
  },
  {
   "cell_type": "code",
   "execution_count": 84,
   "metadata": {},
   "outputs": [
    {
     "name": "stdout",
     "output_type": "stream",
     "text": [
      "(50000, 32, 32, 3)\n",
      "(50000, 32, 32, 1)\n",
      "(10,)\n",
      "[0. 0. 0. 0. 0. 0. 1. 0. 0. 0.]\n"
     ]
    }
   ],
   "source": [
    "\n",
    "# Pre processing\n",
    "#Only preprocessing step is to make all images grey scale. \n",
    "\n",
    "print(x_train.shape)\n",
    "\n",
    "xtt = np.mean(x_train,axis=3)\n",
    "xte = np.mean(x_test,axis=3)\n",
    "x_train=xtt.reshape(50000, img_x, img_y, 1)\n",
    "x_test=xte.reshape(10000, img_x, img_y, 1)\n",
    "\n",
    "\n",
    "print(x_train.shape)\n",
    "\n",
    "\n",
    "# Data is already 255 normalized! dont do anything\n",
    "\n",
    "#print('x_train shape:', x_train.shape)\n",
    "#print(x_train.shape[0], 'train samples')\n",
    "#print(x_test.shape[0], 'test samples')\n",
    "\n",
    "\n",
    "num_classes = 10 # Number of classes\n",
    "if y_train[0].shape != (1,):\n",
    "    print('Did not increase y_train') #Put this so that data doesnt grow a dim every time it runs\n",
    "else:\n",
    "    y_train = keras.utils.to_categorical(y_train, num_classes)\n",
    "    y_test = keras.utils.to_categorical(y_test, num_classes)\n",
    "x=y_train[0].shape \n",
    "print(x)\n",
    "print(y_train[0])"
   ]
  },
  {
   "cell_type": "code",
   "execution_count": 166,
   "metadata": {},
   "outputs": [],
   "source": [
    "batch_size = 100  # Set the batch size\n",
    "epochs = 15 # Set the number of epochs\n",
    "num_classes=10"
   ]
  },
  {
   "cell_type": "markdown",
   "metadata": {},
   "source": [
    "# TEST\n",
    "model = Sequential()\n",
    "model.add(Input(shape=(32,32,1)))\n",
    "\n",
    "model.add(Conv2D(32, kernel_size=(3, 3), strides=(1, 1)))\n",
    "model.add(Dropout(rate = .01,seed = 7))\n",
    "model.add(MaxPooling2D(pool_size=(5, 5),strides=(2,2),padding='same'))\n",
    "model.add(Conv2D(60, kernel_size=(5, 5)))\n",
    "model.add(Conv2D(70, (7,7), activation='relu'))\n",
    "\n",
    "model.add(BatchNormalization(axis=3,trainable=True))\n",
    "model.add(MaxPooling2D(pool_size=(2, 2)))\n",
    "model.add(Flatten())\n",
    "model.add(Dense(1000, activation='relu'))\n",
    "model.add(Dense(num_classes, activation='softmax'))\n"
   ]
  },
  {
   "cell_type": "code",
   "execution_count": 167,
   "metadata": {},
   "outputs": [],
   "source": [
    "# Finial Model\n",
    "model = Sequential()\n",
    "model.add(Input(shape=(32,32,1)))\n",
    "\n",
    "model.add(Conv2D(32, kernel_size=(3, 3), strides=(1, 1), activation='relu'))\n",
    "model.add(Dropout(rate = .01,seed = 7))\n",
    "model.add(MaxPooling2D(pool_size=(5, 5),strides=(2,2),padding='same'))\n",
    "model.add(Conv2D(64, (7,7), activation='relu'))\n",
    "\n",
    "model.add(BatchNormalization(axis=3,trainable=True))\n",
    "model.add(MaxPooling2D(pool_size=(2, 2)))\n",
    "model.add(Flatten())\n",
    "model.add(Dense(1000, activation='relu'))\n",
    "model.add(Dense(num_classes, activation='softmax'))\n"
   ]
  },
  {
   "cell_type": "code",
   "execution_count": 168,
   "metadata": {},
   "outputs": [
    {
     "name": "stdout",
     "output_type": "stream",
     "text": [
      "Epoch 1/15\n",
      "335/335 [==============================] - 33s 98ms/step - loss: 1.4319 - accuracy: 0.5106 - val_loss: 1.7478 - val_accuracy: 0.4730\n",
      "Epoch 2/15\n",
      "335/335 [==============================] - 32s 96ms/step - loss: 1.0191 - accuracy: 0.6471 - val_loss: 2.0190 - val_accuracy: 0.4333\n",
      "Epoch 3/15\n",
      "335/335 [==============================] - 33s 99ms/step - loss: 0.8511 - accuracy: 0.7052 - val_loss: 1.3041 - val_accuracy: 0.5780\n",
      "Epoch 4/15\n",
      "335/335 [==============================] - 33s 100ms/step - loss: 0.7050 - accuracy: 0.7545 - val_loss: 1.4744 - val_accuracy: 0.5700\n",
      "Epoch 5/15\n",
      "335/335 [==============================] - 34s 100ms/step - loss: 0.5933 - accuracy: 0.7944 - val_loss: 1.2036 - val_accuracy: 0.6270\n",
      "Epoch 6/15\n",
      "335/335 [==============================] - 33s 99ms/step - loss: 0.4795 - accuracy: 0.8331 - val_loss: 1.1673 - val_accuracy: 0.6449\n",
      "Epoch 7/15\n",
      "335/335 [==============================] - 34s 100ms/step - loss: 0.3744 - accuracy: 0.8705 - val_loss: 1.2381 - val_accuracy: 0.6584\n",
      "Epoch 8/15\n",
      "335/335 [==============================] - 33s 99ms/step - loss: 0.2783 - accuracy: 0.9044 - val_loss: 1.1632 - val_accuracy: 0.6675\n",
      "Epoch 9/15\n",
      "335/335 [==============================] - 34s 100ms/step - loss: 0.1981 - accuracy: 0.9334 - val_loss: 1.3792 - val_accuracy: 0.6690\n",
      "Epoch 10/15\n",
      "335/335 [==============================] - 34s 101ms/step - loss: 0.1419 - accuracy: 0.9547 - val_loss: 1.5879 - val_accuracy: 0.6568\n",
      "Epoch 11/15\n",
      "335/335 [==============================] - 34s 100ms/step - loss: 0.1348 - accuracy: 0.9556 - val_loss: 1.8777 - val_accuracy: 0.6139\n",
      "Epoch 12/15\n",
      "335/335 [==============================] - 34s 101ms/step - loss: 0.1264 - accuracy: 0.9563 - val_loss: 1.8257 - val_accuracy: 0.6291\n",
      "Epoch 13/15\n",
      "335/335 [==============================] - 34s 101ms/step - loss: 0.1141 - accuracy: 0.9607 - val_loss: 1.7407 - val_accuracy: 0.6612\n",
      "Epoch 14/15\n",
      "335/335 [==============================] - 34s 102ms/step - loss: 0.0960 - accuracy: 0.9670 - val_loss: 2.2355 - val_accuracy: 0.6253\n",
      "Epoch 15/15\n",
      "335/335 [==============================] - 34s 102ms/step - loss: 0.0757 - accuracy: 0.9747 - val_loss: 1.8707 - val_accuracy: 0.6723\n",
      "Test loss: 1.8940269947052002\n",
      "Test accuracy: 0.6733999848365784\n"
     ]
    }
   ],
   "source": [
    "model.compile(loss=keras.losses.categorical_crossentropy,\n",
    "              optimizer=keras.optimizers.Adam(),\n",
    "              metrics=['accuracy'])\n",
    "\n",
    "\n",
    "\n",
    "hist = model.fit(x_train, y_train,\n",
    "          batch_size=batch_size,\n",
    "          epochs=epochs,\n",
    "          verbose=1,\n",
    "          validation_split=0.33,\n",
    "          callbacks=None) #[history])\n",
    "\n",
    "\n",
    "\n",
    "score = model.evaluate(x_test, y_test, verbose=0)\n",
    "print('Test loss:', score[0])\n",
    "print('Test accuracy:', score[1])"
   ]
  },
  {
   "cell_type": "code",
   "execution_count": 160,
   "metadata": {},
   "outputs": [
    {
     "name": "stdout",
     "output_type": "stream",
     "text": [
      "Model: \"sequential_45\"\n",
      "_________________________________________________________________\n",
      "Layer (type)                 Output Shape              Param #   \n",
      "=================================================================\n",
      "conv2d_111 (Conv2D)          (None, 30, 30, 32)        320       \n",
      "_________________________________________________________________\n",
      "dropout_45 (Dropout)         (None, 30, 30, 32)        0         \n",
      "_________________________________________________________________\n",
      "max_pooling2d_88 (MaxPooling (None, 15, 15, 32)        0         \n",
      "_________________________________________________________________\n",
      "conv2d_112 (Conv2D)          (None, 9, 9, 64)          100416    \n",
      "_________________________________________________________________\n",
      "batch_normalization_44 (Batc (None, 9, 9, 64)          256       \n",
      "_________________________________________________________________\n",
      "max_pooling2d_89 (MaxPooling (None, 4, 4, 64)          0         \n",
      "_________________________________________________________________\n",
      "flatten_44 (Flatten)         (None, 1024)              0         \n",
      "_________________________________________________________________\n",
      "dense_88 (Dense)             (None, 1000)              1025000   \n",
      "_________________________________________________________________\n",
      "dense_89 (Dense)             (None, 10)                10010     \n",
      "=================================================================\n",
      "Total params: 1,136,002\n",
      "Trainable params: 1,135,874\n",
      "Non-trainable params: 128\n",
      "_________________________________________________________________\n"
     ]
    }
   ],
   "source": [
    "model.summary()"
   ]
  },
  {
   "cell_type": "markdown",
   "metadata": {},
   "source": [
    "# Discussion - MNIST-10\n",
    "\n",
    "The only preprocessing step I did for this data set was to force the data set to be gray scale and thus 1 channel. I tried to use the RGB values and make it 3 channel, but after working through a few itterations I was unable to breka the 50% accuracy mark. \n",
    "\n",
    "\n",
    "My Model summary is shown above and I will go over the details of the model first. The model has 2 convolutional layers connected to 2 fully connected layers where the last fully connected layer is a softmax output. The first Conv layer has  a 3x3 kernal with a stride of 1 and a RelU activation. The activation proove nessacary along with the smaller 3x3 size. I initally tried using larger sizes at first, but it was better off for me to use the smaller sizes as idicated by CV scores. Next, the two convolution layers are connected with a dropout layer and a max pooling layer intbeteen. The dropout layer has a low chance (1%) to drop out, I would have expected this to improve results when higher. Having a no dropout or a higher Dropout chance reduces the CV score, so 1% was chosen.  The Max pooling was used in the previous sections so I used the same parameters from above.\n",
    "\n",
    "This feeds into the second convolutional layer which is 7x7. The larger size cuts down on parameters, increases trianing speed, and increases CV score for a triple sucess. This layer was the hardest to configure. I attempeted may different configuations with the size and number of neurons being formost consideration. I had tired larger numbers thinking that they would prove better, but I found that that was not always true and that using relativily small numbers was best. This also had the benefit of cutting down on parameters. I also expirmented with using more than 2 CNN layers, but after many attempts of trying to get 3,4 or 5 layers I found it impossible to get them to give better results than my simple 2 CNN layer model. This might be possible that since I added more layers the training took longer so to combat this I made all CNN layers smaller in neurons. I did not want processing times to go over 40 minutes for me so that I could make some progress in just a few days that I took to complete the project. \n",
    "\n",
    "After the second CNN layer I used a BatchNormalization layer. This was a boon to my accuracy and CV score. Without this layer my resutls were closer to 20% CV score. This layer was easy to use becasue it trained its own parameters, but because of this I did extend the number of Epochs from 10 to 15 that the model had more time to stabilze. The location of the layer mattered a great deal. I could not add a BatchNorm layer after the other CNN, doing so caused harm. I can only theorize that perhaps some small number of batches created extremly weird outpus of the first CNN layer so normalization made other batches have similar defects.\n",
    "\n",
    "The finial layers were a max_pooling layer configured as above followed by a flatten into the two dense layers that were configued and discussed at length in the first part of this project. \n",
    "\n",
    "Doing all of this I was able to get a system with a CV score of 67.23% and a testing accuracy of 67.33%. The training accuracy is 98% so there is clearly overfitting occuring, but the methods I have researched to remove this revolve around more data or other methods that extend processing time. I thought that with the simple nature of my CNN,having just 1.1 million parameters, the results were inspiring. My first step to increase results would be to up the number of Epochs. Going from 10 to 15 with the current model improved accuracy by 7% so at 15 there is still imporovment to be had. It is a time consuming imporovemnt so I did not worry for the purpose of this project. \n",
    "\n"
   ]
  },
  {
   "cell_type": "code",
   "execution_count": null,
   "metadata": {},
   "outputs": [],
   "source": []
  }
 ],
 "metadata": {
  "kernelspec": {
   "display_name": "Python 3",
   "language": "python",
   "name": "python3"
  },
  "language_info": {
   "codemirror_mode": {
    "name": "ipython",
    "version": 3
   },
   "file_extension": ".py",
   "mimetype": "text/x-python",
   "name": "python",
   "nbconvert_exporter": "python",
   "pygments_lexer": "ipython3",
   "version": "3.8.8"
  }
 },
 "nbformat": 4,
 "nbformat_minor": 2
}

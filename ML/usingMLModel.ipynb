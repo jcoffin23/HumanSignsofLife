{
 "cells": [
  {
   "cell_type": "markdown",
   "id": "9886d730",
   "metadata": {},
   "source": [
    "# Load the Model\n",
    "\n",
    "This script will load the previously trained ML model and try to use it to predict the output frequency for different data conditons.\n",
    "\n",
    "First we will be using the model trained on a stationary heart beat to detect a model that has a moving heart beat. The data loaded below has a heart beat which is linearly chirping at a rate of 1 Hz in 10 seconds. "
   ]
  },
  {
   "cell_type": "code",
   "execution_count": 1,
   "id": "ae7efcdc",
   "metadata": {},
   "outputs": [
    {
     "name": "stdout",
     "output_type": "stream",
     "text": [
      "2.4.3\n"
     ]
    }
   ],
   "source": [
    "import keras\n",
    "import numpy as np\n",
    "import matplotlib.pyplot as plt\n",
    "from keras import Input as Input\n",
    "from keras.datasets import mnist\n",
    "from keras.layers import Dense, Flatten\n",
    "from keras.layers import Conv2D, MaxPooling2D,Conv1D\n",
    "from keras.models import Sequential\n",
    "from keras.layers import Dropout\n",
    "from keras import layers\n",
    "from keras.layers import BatchNormalization\n",
    "import h5py\n",
    "import scipy.signal as sig\n",
    "from scipy import signal\n",
    "print(keras.__version__)"
   ]
  },
  {
   "cell_type": "markdown",
   "id": "2e475606",
   "metadata": {},
   "source": [
    "# Load data\n",
    "\n",
    "The cell below loads the .mat file which contains the data. If this does not work make sure the .mat was saved as -v7.3, which is in the h5py data format. If it is not, resave it or change this code. "
   ]
  },
  {
   "cell_type": "code",
   "execution_count": 57,
   "id": "583097d4",
   "metadata": {},
   "outputs": [],
   "source": [
    "f = h5py.File('ML_phaseFull_HRV.mat','r') \n",
    "#f = h5py.File('ML_HRV_honly_fs500_1.mat','r') \n",
    "\n",
    "f = h5py.File('ML_HRV_full_fs500_long_1.mat','r') \n",
    "arrays = {}\n",
    "\n",
    "for k, v in f.items():\n",
    "    arrays[k] = np.array(v)\n",
    "\n",
    "    "
   ]
  },
  {
   "cell_type": "code",
   "execution_count": 58,
   "id": "6128904b",
   "metadata": {},
   "outputs": [],
   "source": [
    "def getSpec(x,win,winSize,fs,fLimit,y_dat,out,inner):\n",
    "    #Generate Spectrogram\n",
    "    f, t, Sxx = signal.spectrogram(x,window=win,nperseg=winSize ,fs = fs,noverlap=winSize - 15,nfft= 10000) #Find spectrogram with high fft count\n",
    "    spec = Sxx[0:fLimit,:] #We only need FFT from 0 to 6 ish Hz which is about the first 100 samples at fs=500\n",
    "    f = f[0:fLimit]\n",
    "    idx=np.int0(t*fs)\n",
    "    if inner != -1:\n",
    "        y=y_dat[idx,out,inner]\n",
    "    else:\n",
    "        y = y_dat[out,idx]\n",
    "    return spec,f,y,t"
   ]
  },
  {
   "cell_type": "markdown",
   "id": "b9220a06",
   "metadata": {},
   "source": [
    "# Extract data into usable form\n",
    "The data is in a dict by default, for ease of use lets put it into several different variables. X_dat should be a matrix of the data which is 100k by 2k where there are 100k data samples each are 2k long. "
   ]
  },
  {
   "cell_type": "code",
   "execution_count": 60,
   "id": "6d311a51",
   "metadata": {},
   "outputs": [
    {
     "name": "stdout",
     "output_type": "stream",
     "text": [
      "dict_keys(['datOut', 'fhActual', 'frActual', 't'])\n",
      "(10, 50001)\n",
      "x_dat shape: (10, 50001)\n",
      "10 samples\n",
      "y_dat shape: (10, 50001)\n"
     ]
    }
   ],
   "source": [
    "print(arrays.keys())\n",
    "datOut= arrays['datOut']\n",
    "\n",
    "numOfDat = datOut.shape[0]\n",
    "\n",
    "heartLabels = arrays['fhActual']\n",
    "\n",
    "print(heartLabels.shape)\n",
    "heartLabels = heartLabels[:,0:]\n",
    "\n",
    "y_dat = heartLabels\n",
    "\n",
    "respLabels = arrays['frActual']\n",
    "respLabels = respLabels.transpose()\n",
    "respLabels = respLabels[:,0:numOfDat]\n",
    "#print(datOut.shape) # 20 thousand different trials each is 16k samples long. +\n",
    "\n",
    "\n",
    "#datLabels = np.empty((2,numOfDat))\n",
    "#datLabels[0,:] = respLabels\n",
    "#datLabels[1,:] = heartLabels\n",
    "\n",
    "#datLabels= datLabels.transpose()\n",
    "tNum = datOut.shape[0]\n",
    "\n",
    "x_dat = datOut[:,0:]\n",
    "#y_dat = datLabels[:,:] \n",
    "\n",
    "\n",
    "\n",
    "# convert the data to the right type\n",
    "x_dat = x_dat.astype('float32')\n",
    "\n",
    "\n",
    "print('x_dat shape:', x_dat.shape)\n",
    "print(x_dat.shape[0], 'samples')\n",
    "print('y_dat shape:', y_dat.shape)\n",
    "\n",
    "lenDat = x_dat.shape[1]\n",
    "numDat = x_dat.shape[0]"
   ]
  },
  {
   "cell_type": "markdown",
   "id": "9365717e",
   "metadata": {},
   "source": [
    "# Load ML model\n",
    "\n",
    "Load the previously trained ML model\n",
    "\n",
    "Current model uses 1900  data samples for 1 classificaiton (freq estimation)"
   ]
  },
  {
   "cell_type": "code",
   "execution_count": 61,
   "id": "07b03f19",
   "metadata": {},
   "outputs": [
    {
     "name": "stdout",
     "output_type": "stream",
     "text": [
      "(10, 50001)\n"
     ]
    }
   ],
   "source": [
    "model = keras.models.load_model('Model_fs500_specModel_RespInc/')\n",
    "model = keras.models.load_model('Model_fs500_honly_500/')\n",
    "lenModel = 100\n",
    "fs =500\n",
    "\n",
    "testRunNum = 8\n",
    "print(x_dat.shape)\n"
   ]
  },
  {
   "cell_type": "code",
   "execution_count": 70,
   "id": "0485f67e",
   "metadata": {
    "scrolled": true
   },
   "outputs": [
    {
     "name": "stdout",
     "output_type": "stream",
     "text": [
      "(100, 3197)\n",
      "(3197,)\n",
      "(3197,)\n"
     ]
    }
   ],
   "source": [
    "winSize = 2048  #This is the window size (found to work best for fs = 500)\n",
    "fLimit = 100\n",
    "win = signal.get_window('hamming',winSize) #Hamming window\n",
    "\n",
    "\n",
    "\n",
    "testRunNum = 1\n",
    "\n",
    "x= x_dat[testRunNum,:]\n",
    "spec,f,y,t = getSpec(x,win,winSize,fs,fLimit,y_dat,testRunNum,-1)\n",
    "\n",
    "spec = (spec)\n",
    "print(spec.shape)\n",
    "print(t.shape)\n",
    "print(y.shape)"
   ]
  },
  {
   "cell_type": "code",
   "execution_count": 71,
   "id": "8f2c80d8",
   "metadata": {},
   "outputs": [
    {
     "data": {
      "image/png": "[encoded data removed]",
      "text/plain": [
       "<Figure size 432x288 with 1 Axes>"
      ]
     },
     "metadata": {
      "needs_background": "light"
     },
     "output_type": "display_data"
    }
   ],
   "source": [
    "\n",
    "\n",
    "plt.pcolormesh(t,f,spec, shading='gouraud') #Plot it to confirm (dont do this when actually finding it (duh))\n",
    "plt.plot(t,y)\n",
    "plt.ylabel('Frequency [Hz]')\n",
    "\n",
    "plt.xlabel('Time [sec]')\n",
    "\n",
    "plt.show()"
   ]
  },
  {
   "cell_type": "code",
   "execution_count": null,
   "id": "72b6803a",
   "metadata": {},
   "outputs": [],
   "source": []
  },
  {
   "cell_type": "markdown",
   "id": "07fb093e",
   "metadata": {},
   "source": [
    "# Old Method\n",
    "\n",
    "from IPython.display import clear_output\n",
    "\n",
    "\n",
    "countVec = range(0,lenDat-lenModel,10)\n",
    "#countVec = np.arange(0,lenDat-lenModel,500)\n",
    "\n",
    "cvSize = len(countVec)\n",
    "\n",
    "freqMat = np.zeros((1,2,cvSize +1))\n",
    "cc=0\n",
    "print(len(countVec))\n",
    "for k in countVec:\n",
    "    freqMat[0,:,cc] = model.predict(x_dat[1:2,k:k+lenModel])\n",
    "    if cc %100 ==0:\n",
    "        print('%.2f Percent Done '%((cc/cvSize)*100))\n",
    "    cc+=1\n",
    "    #print('%.2f Percent Done '%((cc/cvSize)*100))"
   ]
  },
  {
   "cell_type": "markdown",
   "id": "5272b2e3",
   "metadata": {},
   "source": [
    "freqEst = freqMat[0,1,:]\n",
    "y=y_dat[1,countVec]\n",
    "filtLen = 2\n",
    "hn  = (1/filtLen)*np.ones((filtLen,))\n",
    "freqEstFilt = np.convolve(freqEst,hn,'valid')\n",
    "freqEstFilt\n",
    "\n",
    "#freqEstFilt = freqEst[freqEst > np.mean(freqEst)]\n",
    "#freqEstFilt = sig.decimate(freqEstFilt,14)\n",
    "\n",
    "print(y.shape)"
   ]
  },
  {
   "cell_type": "code",
   "execution_count": 72,
   "id": "431f09bf",
   "metadata": {},
   "outputs": [
    {
     "name": "stdout",
     "output_type": "stream",
     "text": [
      "(3197, 100)\n"
     ]
    }
   ],
   "source": [
    "if spec.shape[0] == lenModel:\n",
    "    spec = np.transpose(spec)\n",
    "    \n",
    "\n",
    "freqEst = model.predict(spec)\n",
    "\n",
    "print(spec.shape)"
   ]
  },
  {
   "cell_type": "code",
   "execution_count": 73,
   "id": "d8e5db30",
   "metadata": {},
   "outputs": [
    {
     "data": {
      "image/png": "[encoded data removed]",
      "text/plain": [
       "<Figure size 432x288 with 1 Axes>"
      ]
     },
     "metadata": {
      "needs_background": "light"
     },
     "output_type": "display_data"
    },
    {
     "name": "stdout",
     "output_type": "stream",
     "text": [
      "MSE of freq Est:  0.027263280549610615\n"
     ]
    }
   ],
   "source": [
    "\n",
    "#np.savetxt(\"foo.csv\", freqEstFilt, delimiter=\",\")\n",
    "\n",
    "lenEst = len(freqEst)\n",
    "t = np.linspace(0,40,lenEst)\n",
    "\n",
    "\n",
    "\n",
    "plt.plot(t,(freqEst))\n",
    "plt.plot(t,y)\n",
    "plt.ylabel('Frequency')\n",
    "plt.xlabel('time (s)')\n",
    "plt.legend(['Predicted Freqeuncy','Actual Frequency'])\n",
    "plt.title('Heart Rate Frequency Estimate Comparison')\n",
    "plt.show()\n",
    "\n",
    "mseFreq = np.mean(np.power(y-freqEst,2))\n",
    "print('MSE of freq Est: ',mseFreq)"
   ]
  },
  {
   "cell_type": "code",
   "execution_count": null,
   "id": "8f46f5d5",
   "metadata": {},
   "outputs": [],
   "source": []
  },
  {
   "cell_type": "code",
   "execution_count": null,
   "id": "6dfa94eb",
   "metadata": {},
   "outputs": [],
   "source": []
  },
  {
   "cell_type": "code",
   "execution_count": null,
   "id": "7238f6b5",
   "metadata": {},
   "outputs": [],
   "source": []
  }
 ],
 "metadata": {
  "kernelspec": {
   "display_name": "Python 3",
   "language": "python",
   "name": "python3"
  },
  "language_info": {
   "codemirror_mode": {
    "name": "ipython",
    "version": 3
   },
   "file_extension": ".py",
   "mimetype": "text/x-python",
   "name": "python",
   "nbconvert_exporter": "python",
   "pygments_lexer": "ipython3",
   "version": "3.8.8"
  }
 },
 "nbformat": 4,
 "nbformat_minor": 5
}
